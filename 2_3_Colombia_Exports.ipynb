{
 "cells": [
  {
   "cell_type": "markdown",
   "metadata": {},
   "source": [
    "# Coffee Industry"
   ]
  },
  {
   "cell_type": "markdown",
   "metadata": {},
   "source": [
    "## 1. Business Understanding"
   ]
  },
  {
   "cell_type": "markdown",
   "metadata": {},
   "source": [
    "### The Uniqueness of Colombian Coffee"
   ]
  },
  {
   "cell_type": "markdown",
   "metadata": {},
   "source": [
    "Colombian coffee is renowned worldwide for its unique qualities, which stem from several factors related to the country's geography, climate, and cultivation methods. Here are some key aspects that make Colombian coffee distinctive:\n",
    "\n",
    "1. Ideal Growing Conditions\n",
    "    - Geography:\\ \n",
    "    Colombia is located near the equator and has mountainous terrain, providing an ideal environment for coffee cultivation. The Andes mountain range creates diverse microclimates and elevations, which are perfect for growing coffee.\n",
    "    - Climate:\\\n",
    "    The country enjoys a climate that is neither too hot nor too cold, with well-distributed rainfall throughout the year. This consistent climate allows for two harvests annually in many regions, leading to fresh coffee availability year-round.\n",
    "\n",
    "2. High-Altitude Growing\\\n",
    "Colombian coffee is typically grown at elevations between 1,200 and 1,800 meters above sea level. Higher altitudes slow the maturation of coffee beans, allowing them to develop more complex flavors and a higher acidity, which are prized in specialty coffee.\n",
    "\n",
    "3. Varieties\\\n",
    "The most common coffee variety grown in Colombia is Arabica, known for its smooth and mild flavor profile. Within Arabica, Colombia grows several specific varieties such as Typica, Bourbon, and Caturra, each contributing unique flavor notes to the coffee.\n",
    "\n",
    "4. Hand-Picking\\\n",
    "Colombian coffee is predominantly hand-picked. This selective harvesting ensures that only the ripest cherries are picked, which contributes to the quality and consistency of the beans. It also allows for careful selection and minimal damage to the plants.\n",
    "\n",
    "5. Processing Methods\\\n",
    "Most Colombian coffee is wet-processed or \"washed,\" which means the beans are separated from the cherries and then fermented to remove the mucilage before drying. This process enhances the coffee's bright acidity and clean flavor.\n",
    "\n",
    "6. Flavor Profile\\\n",
    "Colombian coffee is known for its well-balanced flavor with medium body, bright acidity, and notes of citrus, chocolate, caramel, and sometimes fruity undertones. The specific flavors can vary depending on the region, altitude, and processing methods.\n",
    "\n",
    "7. Regional Diversity\\\n",
    "Different regions in Colombia produce coffee with distinct flavor profiles due to the varied climates and altitudes. For instance, coffee from the Huila region often has floral and fruity notes, while coffee from the Antioquia region might have a nuttier and sweeter profile.\n",
    "\n",
    "8. Cultural and Economic Importance\\\n",
    "Coffee is deeply embedded in Colombian culture and economy. The country has a rich coffee tradition, supported by the National Federation of Coffee Growers of Colombia (FNC), which promotes high-quality standards and the international reputation of Colombian coffee.\n",
    "\n",
    "9. Sustainability and Certification\\\n",
    "Many Colombian coffee farms adhere to sustainable farming practices, and some coffees are certified organic, Fair Trade, or Rainforest Alliance. These certifications further enhance the appeal of Colombian coffee to consumers looking for ethically sourced products.\n",
    "\n",
    "These factors combine to create a coffee that is not only high in quality but also highly distinctive, making Colombian coffee a favorite among coffee aficionados worldwide."
   ]
  },
  {
   "cell_type": "markdown",
   "metadata": {},
   "source": [
    "## 2. Data Mining"
   ]
  },
  {
   "cell_type": "markdown",
   "metadata": {},
   "source": [
    "### Installs"
   ]
  },
  {
   "cell_type": "code",
   "execution_count": 1,
   "metadata": {},
   "outputs": [],
   "source": [
    "# !pip install pycountry"
   ]
  },
  {
   "cell_type": "markdown",
   "metadata": {},
   "source": [
    "### Libraries"
   ]
  },
  {
   "cell_type": "code",
   "execution_count": 2,
   "metadata": {},
   "outputs": [],
   "source": [
    "import numpy as np\n",
    "import pandas as pd\n",
    "import os\n",
    "\n",
    "# Data Profile Reporting Tool\n",
    "from ydata_profiling import ProfileReport\n",
    "# To avoid unneeded warning display\n",
    "import warnings\n",
    "warnings.filterwarnings('ignore')\n",
    "pd.set_option('display.max_columns', None)\n",
    "\n",
    "import time\n",
    "import datetime\n",
    "import pycountry\n",
    "\n",
    "import matplotlib.pyplot as plt\n",
    "import matplotlib.ticker as ticker\n",
    "%matplotlib inline\n",
    "import seaborn as sns\n",
    "\n",
    "import pymysql\n",
    "from sqlalchemy import create_engine, text"
   ]
  },
  {
   "cell_type": "markdown",
   "metadata": {},
   "source": [
    "### Importing my Functions"
   ]
  },
  {
   "cell_type": "code",
   "execution_count": 3,
   "metadata": {},
   "outputs": [],
   "source": [
    "from coffee_functions import process_files, clean_and_prepare_dataframe, create_sqlalchemy_engine, insert_dataframe_to_mysql\n",
    "import config  # Access to MySQL"
   ]
  },
  {
   "cell_type": "markdown",
   "metadata": {},
   "source": [
    "### Load the Data"
   ]
  },
  {
   "cell_type": "markdown",
   "metadata": {},
   "source": [
    "#### All Exports"
   ]
  },
  {
   "cell_type": "markdown",
   "metadata": {},
   "source": [
    "#### Coffee Exports"
   ]
  },
  {
   "cell_type": "code",
   "execution_count": 4,
   "metadata": {},
   "outputs": [
    {
     "name": "stdout",
     "output_type": "stream",
     "text": [
      "<class 'pandas.core.frame.DataFrame'>\n",
      "RangeIndex: 8907 entries, 0 to 8906\n",
      "Data columns (total 48 columns):\n",
      " #   Column                    Non-Null Count  Dtype  \n",
      "---  ------                    --------------  -----  \n",
      " 0   TypeCode                  8907 non-null   object \n",
      " 1   FreqCode                  8907 non-null   object \n",
      " 2   RefPeriodId               8907 non-null   int64  \n",
      " 3   RefYear                   8907 non-null   int64  \n",
      " 4   RefMonth                  8907 non-null   int64  \n",
      " 5   Period                    8907 non-null   int64  \n",
      " 6   ReporterCode              8907 non-null   int64  \n",
      " 7   ReporterISO               8907 non-null   object \n",
      " 8   ReporterDesc              8907 non-null   object \n",
      " 9   FlowCode                  8907 non-null   object \n",
      " 10  FlowDesc                  8907 non-null   object \n",
      " 11  PartnerCode               8907 non-null   int64  \n",
      " 12  PartnerISO                8907 non-null   object \n",
      " 13  PartnerDesc               8907 non-null   object \n",
      " 14  Partner2Code              8907 non-null   int64  \n",
      " 15  Partner2ISO               8907 non-null   object \n",
      " 16  Partner2Desc              8907 non-null   object \n",
      " 17  ClassificationCode        8907 non-null   object \n",
      " 18  ClassificationSearchCode  8907 non-null   object \n",
      " 19  IsOriginalClassification  8907 non-null   bool   \n",
      " 20  CmdCode                   8907 non-null   int64  \n",
      " 21  CmdDesc                   8907 non-null   object \n",
      " 22  AggrLevel                 8907 non-null   int64  \n",
      " 23  IsLeaf                    8907 non-null   bool   \n",
      " 24  CustomsCode               8907 non-null   object \n",
      " 25  CustomsDesc               8907 non-null   object \n",
      " 26  MosCode                   8907 non-null   int64  \n",
      " 27  MotCode                   8907 non-null   int64  \n",
      " 28  MotDesc                   8907 non-null   object \n",
      " 29  QtyUnitCode               8907 non-null   int64  \n",
      " 30  QtyUnitAbbr               8905 non-null   object \n",
      " 31  Qty                       8907 non-null   float64\n",
      " 32  IsQtyEstimated            8907 non-null   bool   \n",
      " 33  AltQtyUnitCode            8907 non-null   int64  \n",
      " 34  AltQtyUnitAbbr            8907 non-null   object \n",
      " 35  AltQty                    8907 non-null   float64\n",
      " 36  IsAltQtyEstimated         8907 non-null   bool   \n",
      " 37  NetWgt                    8907 non-null   float64\n",
      " 38  IsNetWgtEstimated         8907 non-null   bool   \n",
      " 39  GrossWgt                  8907 non-null   int64  \n",
      " 40  IsGrossWgtEstimated       8907 non-null   bool   \n",
      " 41  Cifvalue                  5622 non-null   float64\n",
      " 42  Fobvalue                  8901 non-null   float64\n",
      " 43  PrimaryValue              8907 non-null   float64\n",
      " 44  LegacyEstimationFlag      8907 non-null   int64  \n",
      " 45  IsReported                8907 non-null   bool   \n",
      " 46  IsAggregate               8907 non-null   bool   \n",
      " 47  Unnamed: 47               0 non-null      float64\n",
      "dtypes: bool(8), float64(7), int64(15), object(18)\n",
      "memory usage: 2.8+ MB\n"
     ]
    }
   ],
   "source": [
    "colombia_trade_raw = process_files(r\"source\\datasets\\UN_Comtrade_Exports_Coffee\\3_Colombia\", \"ImportsExports_Coffee\", (2017, 2023))\n",
    "colombia_trade_raw.info()"
   ]
  },
  {
   "cell_type": "code",
   "execution_count": 5,
   "metadata": {},
   "outputs": [
    {
     "data": {
      "text/html": [
       "<div>\n",
       "<style scoped>\n",
       "    .dataframe tbody tr th:only-of-type {\n",
       "        vertical-align: middle;\n",
       "    }\n",
       "\n",
       "    .dataframe tbody tr th {\n",
       "        vertical-align: top;\n",
       "    }\n",
       "\n",
       "    .dataframe thead th {\n",
       "        text-align: right;\n",
       "    }\n",
       "</style>\n",
       "<table border=\"1\" class=\"dataframe\">\n",
       "  <thead>\n",
       "    <tr style=\"text-align: right;\">\n",
       "      <th></th>\n",
       "      <th>TypeCode</th>\n",
       "      <th>FreqCode</th>\n",
       "      <th>RefPeriodId</th>\n",
       "      <th>RefYear</th>\n",
       "      <th>RefMonth</th>\n",
       "      <th>Period</th>\n",
       "      <th>ReporterCode</th>\n",
       "      <th>ReporterISO</th>\n",
       "      <th>ReporterDesc</th>\n",
       "      <th>FlowCode</th>\n",
       "      <th>FlowDesc</th>\n",
       "      <th>PartnerCode</th>\n",
       "      <th>PartnerISO</th>\n",
       "      <th>PartnerDesc</th>\n",
       "      <th>Partner2Code</th>\n",
       "      <th>Partner2ISO</th>\n",
       "      <th>Partner2Desc</th>\n",
       "      <th>ClassificationCode</th>\n",
       "      <th>ClassificationSearchCode</th>\n",
       "      <th>IsOriginalClassification</th>\n",
       "      <th>CmdCode</th>\n",
       "      <th>CmdDesc</th>\n",
       "      <th>AggrLevel</th>\n",
       "      <th>IsLeaf</th>\n",
       "      <th>CustomsCode</th>\n",
       "      <th>CustomsDesc</th>\n",
       "      <th>MosCode</th>\n",
       "      <th>MotCode</th>\n",
       "      <th>MotDesc</th>\n",
       "      <th>QtyUnitCode</th>\n",
       "      <th>QtyUnitAbbr</th>\n",
       "      <th>Qty</th>\n",
       "      <th>IsQtyEstimated</th>\n",
       "      <th>AltQtyUnitCode</th>\n",
       "      <th>AltQtyUnitAbbr</th>\n",
       "      <th>AltQty</th>\n",
       "      <th>IsAltQtyEstimated</th>\n",
       "      <th>NetWgt</th>\n",
       "      <th>IsNetWgtEstimated</th>\n",
       "      <th>GrossWgt</th>\n",
       "      <th>IsGrossWgtEstimated</th>\n",
       "      <th>Cifvalue</th>\n",
       "      <th>Fobvalue</th>\n",
       "      <th>PrimaryValue</th>\n",
       "      <th>LegacyEstimationFlag</th>\n",
       "      <th>IsReported</th>\n",
       "      <th>IsAggregate</th>\n",
       "      <th>Unnamed: 47</th>\n",
       "    </tr>\n",
       "  </thead>\n",
       "  <tbody>\n",
       "    <tr>\n",
       "      <th>0</th>\n",
       "      <td>C</td>\n",
       "      <td>M</td>\n",
       "      <td>20170101</td>\n",
       "      <td>2017</td>\n",
       "      <td>1</td>\n",
       "      <td>201701</td>\n",
       "      <td>170</td>\n",
       "      <td>COL</td>\n",
       "      <td>Colombia</td>\n",
       "      <td>X</td>\n",
       "      <td>Export</td>\n",
       "      <td>899</td>\n",
       "      <td>_X</td>\n",
       "      <td>Areas, nes</td>\n",
       "      <td>0</td>\n",
       "      <td>W00</td>\n",
       "      <td>World</td>\n",
       "      <td>H5</td>\n",
       "      <td>HS</td>\n",
       "      <td>True</td>\n",
       "      <td>90121</td>\n",
       "      <td>Coffee; roasted, not decaffeinated</td>\n",
       "      <td>6</td>\n",
       "      <td>True</td>\n",
       "      <td>C00</td>\n",
       "      <td>TOTAL CPC</td>\n",
       "      <td>0</td>\n",
       "      <td>0</td>\n",
       "      <td>TOTAL MOT</td>\n",
       "      <td>8</td>\n",
       "      <td>kg</td>\n",
       "      <td>1484.84</td>\n",
       "      <td>False</td>\n",
       "      <td>8</td>\n",
       "      <td>kg</td>\n",
       "      <td>1484.84</td>\n",
       "      <td>False</td>\n",
       "      <td>1484.84</td>\n",
       "      <td>False</td>\n",
       "      <td>0</td>\n",
       "      <td>False</td>\n",
       "      <td>0.00</td>\n",
       "      <td>2.499957e+04</td>\n",
       "      <td>2.499957e+04</td>\n",
       "      <td>0</td>\n",
       "      <td>False</td>\n",
       "      <td>True</td>\n",
       "      <td>NaN</td>\n",
       "    </tr>\n",
       "    <tr>\n",
       "      <th>1</th>\n",
       "      <td>C</td>\n",
       "      <td>M</td>\n",
       "      <td>20170101</td>\n",
       "      <td>2017</td>\n",
       "      <td>1</td>\n",
       "      <td>201701</td>\n",
       "      <td>170</td>\n",
       "      <td>COL</td>\n",
       "      <td>Colombia</td>\n",
       "      <td>X</td>\n",
       "      <td>Export</td>\n",
       "      <td>32</td>\n",
       "      <td>ARG</td>\n",
       "      <td>Argentina</td>\n",
       "      <td>0</td>\n",
       "      <td>W00</td>\n",
       "      <td>World</td>\n",
       "      <td>H5</td>\n",
       "      <td>HS</td>\n",
       "      <td>True</td>\n",
       "      <td>90111</td>\n",
       "      <td>Coffee; not roasted or decaffeinated</td>\n",
       "      <td>6</td>\n",
       "      <td>True</td>\n",
       "      <td>C00</td>\n",
       "      <td>TOTAL CPC</td>\n",
       "      <td>0</td>\n",
       "      <td>0</td>\n",
       "      <td>TOTAL MOT</td>\n",
       "      <td>8</td>\n",
       "      <td>kg</td>\n",
       "      <td>98202.00</td>\n",
       "      <td>False</td>\n",
       "      <td>8</td>\n",
       "      <td>kg</td>\n",
       "      <td>98202.00</td>\n",
       "      <td>False</td>\n",
       "      <td>98202.00</td>\n",
       "      <td>False</td>\n",
       "      <td>0</td>\n",
       "      <td>False</td>\n",
       "      <td>0.00</td>\n",
       "      <td>3.931844e+05</td>\n",
       "      <td>3.931844e+05</td>\n",
       "      <td>0</td>\n",
       "      <td>False</td>\n",
       "      <td>True</td>\n",
       "      <td>NaN</td>\n",
       "    </tr>\n",
       "    <tr>\n",
       "      <th>2</th>\n",
       "      <td>C</td>\n",
       "      <td>M</td>\n",
       "      <td>20170101</td>\n",
       "      <td>2017</td>\n",
       "      <td>1</td>\n",
       "      <td>201701</td>\n",
       "      <td>170</td>\n",
       "      <td>COL</td>\n",
       "      <td>Colombia</td>\n",
       "      <td>X</td>\n",
       "      <td>Export</td>\n",
       "      <td>533</td>\n",
       "      <td>ABW</td>\n",
       "      <td>Aruba</td>\n",
       "      <td>0</td>\n",
       "      <td>W00</td>\n",
       "      <td>World</td>\n",
       "      <td>H5</td>\n",
       "      <td>HS</td>\n",
       "      <td>True</td>\n",
       "      <td>90121</td>\n",
       "      <td>Coffee; roasted, not decaffeinated</td>\n",
       "      <td>6</td>\n",
       "      <td>True</td>\n",
       "      <td>C00</td>\n",
       "      <td>TOTAL CPC</td>\n",
       "      <td>0</td>\n",
       "      <td>0</td>\n",
       "      <td>TOTAL MOT</td>\n",
       "      <td>8</td>\n",
       "      <td>kg</td>\n",
       "      <td>525.00</td>\n",
       "      <td>False</td>\n",
       "      <td>8</td>\n",
       "      <td>kg</td>\n",
       "      <td>525.00</td>\n",
       "      <td>False</td>\n",
       "      <td>525.00</td>\n",
       "      <td>False</td>\n",
       "      <td>0</td>\n",
       "      <td>False</td>\n",
       "      <td>0.00</td>\n",
       "      <td>4.481000e+03</td>\n",
       "      <td>4.481000e+03</td>\n",
       "      <td>0</td>\n",
       "      <td>False</td>\n",
       "      <td>True</td>\n",
       "      <td>NaN</td>\n",
       "    </tr>\n",
       "    <tr>\n",
       "      <th>3</th>\n",
       "      <td>C</td>\n",
       "      <td>M</td>\n",
       "      <td>20170101</td>\n",
       "      <td>2017</td>\n",
       "      <td>1</td>\n",
       "      <td>201701</td>\n",
       "      <td>170</td>\n",
       "      <td>COL</td>\n",
       "      <td>Colombia</td>\n",
       "      <td>X</td>\n",
       "      <td>Export</td>\n",
       "      <td>36</td>\n",
       "      <td>AUS</td>\n",
       "      <td>Australia</td>\n",
       "      <td>0</td>\n",
       "      <td>W00</td>\n",
       "      <td>World</td>\n",
       "      <td>H5</td>\n",
       "      <td>HS</td>\n",
       "      <td>True</td>\n",
       "      <td>90111</td>\n",
       "      <td>Coffee; not roasted or decaffeinated</td>\n",
       "      <td>6</td>\n",
       "      <td>True</td>\n",
       "      <td>C00</td>\n",
       "      <td>TOTAL CPC</td>\n",
       "      <td>0</td>\n",
       "      <td>0</td>\n",
       "      <td>TOTAL MOT</td>\n",
       "      <td>8</td>\n",
       "      <td>kg</td>\n",
       "      <td>621420.00</td>\n",
       "      <td>False</td>\n",
       "      <td>8</td>\n",
       "      <td>kg</td>\n",
       "      <td>621420.00</td>\n",
       "      <td>False</td>\n",
       "      <td>621420.00</td>\n",
       "      <td>False</td>\n",
       "      <td>0</td>\n",
       "      <td>False</td>\n",
       "      <td>0.00</td>\n",
       "      <td>2.443180e+06</td>\n",
       "      <td>2.443180e+06</td>\n",
       "      <td>0</td>\n",
       "      <td>False</td>\n",
       "      <td>True</td>\n",
       "      <td>NaN</td>\n",
       "    </tr>\n",
       "    <tr>\n",
       "      <th>4</th>\n",
       "      <td>C</td>\n",
       "      <td>M</td>\n",
       "      <td>20170101</td>\n",
       "      <td>2017</td>\n",
       "      <td>1</td>\n",
       "      <td>201701</td>\n",
       "      <td>170</td>\n",
       "      <td>COL</td>\n",
       "      <td>Colombia</td>\n",
       "      <td>X</td>\n",
       "      <td>Export</td>\n",
       "      <td>56</td>\n",
       "      <td>BEL</td>\n",
       "      <td>Belgium</td>\n",
       "      <td>0</td>\n",
       "      <td>W00</td>\n",
       "      <td>World</td>\n",
       "      <td>H5</td>\n",
       "      <td>HS</td>\n",
       "      <td>True</td>\n",
       "      <td>90111</td>\n",
       "      <td>Coffee; not roasted or decaffeinated</td>\n",
       "      <td>6</td>\n",
       "      <td>True</td>\n",
       "      <td>C00</td>\n",
       "      <td>TOTAL CPC</td>\n",
       "      <td>0</td>\n",
       "      <td>0</td>\n",
       "      <td>TOTAL MOT</td>\n",
       "      <td>8</td>\n",
       "      <td>kg</td>\n",
       "      <td>2452090.00</td>\n",
       "      <td>False</td>\n",
       "      <td>8</td>\n",
       "      <td>kg</td>\n",
       "      <td>2452090.00</td>\n",
       "      <td>False</td>\n",
       "      <td>2452090.00</td>\n",
       "      <td>False</td>\n",
       "      <td>0</td>\n",
       "      <td>False</td>\n",
       "      <td>0.00</td>\n",
       "      <td>9.986221e+06</td>\n",
       "      <td>9.986221e+06</td>\n",
       "      <td>0</td>\n",
       "      <td>False</td>\n",
       "      <td>True</td>\n",
       "      <td>NaN</td>\n",
       "    </tr>\n",
       "    <tr>\n",
       "      <th>...</th>\n",
       "      <td>...</td>\n",
       "      <td>...</td>\n",
       "      <td>...</td>\n",
       "      <td>...</td>\n",
       "      <td>...</td>\n",
       "      <td>...</td>\n",
       "      <td>...</td>\n",
       "      <td>...</td>\n",
       "      <td>...</td>\n",
       "      <td>...</td>\n",
       "      <td>...</td>\n",
       "      <td>...</td>\n",
       "      <td>...</td>\n",
       "      <td>...</td>\n",
       "      <td>...</td>\n",
       "      <td>...</td>\n",
       "      <td>...</td>\n",
       "      <td>...</td>\n",
       "      <td>...</td>\n",
       "      <td>...</td>\n",
       "      <td>...</td>\n",
       "      <td>...</td>\n",
       "      <td>...</td>\n",
       "      <td>...</td>\n",
       "      <td>...</td>\n",
       "      <td>...</td>\n",
       "      <td>...</td>\n",
       "      <td>...</td>\n",
       "      <td>...</td>\n",
       "      <td>...</td>\n",
       "      <td>...</td>\n",
       "      <td>...</td>\n",
       "      <td>...</td>\n",
       "      <td>...</td>\n",
       "      <td>...</td>\n",
       "      <td>...</td>\n",
       "      <td>...</td>\n",
       "      <td>...</td>\n",
       "      <td>...</td>\n",
       "      <td>...</td>\n",
       "      <td>...</td>\n",
       "      <td>...</td>\n",
       "      <td>...</td>\n",
       "      <td>...</td>\n",
       "      <td>...</td>\n",
       "      <td>...</td>\n",
       "      <td>...</td>\n",
       "      <td>...</td>\n",
       "    </tr>\n",
       "    <tr>\n",
       "      <th>8902</th>\n",
       "      <td>C</td>\n",
       "      <td>M</td>\n",
       "      <td>20231201</td>\n",
       "      <td>2023</td>\n",
       "      <td>12</td>\n",
       "      <td>202312</td>\n",
       "      <td>170</td>\n",
       "      <td>COL</td>\n",
       "      <td>Colombia</td>\n",
       "      <td>M</td>\n",
       "      <td>Import</td>\n",
       "      <td>0</td>\n",
       "      <td>W00</td>\n",
       "      <td>World</td>\n",
       "      <td>0</td>\n",
       "      <td>W00</td>\n",
       "      <td>World</td>\n",
       "      <td>H6</td>\n",
       "      <td>HS</td>\n",
       "      <td>True</td>\n",
       "      <td>90122</td>\n",
       "      <td>Coffee; roasted, decaffeinated</td>\n",
       "      <td>6</td>\n",
       "      <td>True</td>\n",
       "      <td>C00</td>\n",
       "      <td>TOTAL CPC</td>\n",
       "      <td>0</td>\n",
       "      <td>0</td>\n",
       "      <td>TOTAL MOT</td>\n",
       "      <td>8</td>\n",
       "      <td>kg</td>\n",
       "      <td>229.81</td>\n",
       "      <td>False</td>\n",
       "      <td>8</td>\n",
       "      <td>kg</td>\n",
       "      <td>229.81</td>\n",
       "      <td>False</td>\n",
       "      <td>229.81</td>\n",
       "      <td>False</td>\n",
       "      <td>0</td>\n",
       "      <td>False</td>\n",
       "      <td>6298.43</td>\n",
       "      <td>6.112320e+03</td>\n",
       "      <td>6.298430e+03</td>\n",
       "      <td>0</td>\n",
       "      <td>False</td>\n",
       "      <td>True</td>\n",
       "      <td>NaN</td>\n",
       "    </tr>\n",
       "    <tr>\n",
       "      <th>8903</th>\n",
       "      <td>C</td>\n",
       "      <td>M</td>\n",
       "      <td>20231201</td>\n",
       "      <td>2023</td>\n",
       "      <td>12</td>\n",
       "      <td>202312</td>\n",
       "      <td>170</td>\n",
       "      <td>COL</td>\n",
       "      <td>Colombia</td>\n",
       "      <td>X</td>\n",
       "      <td>Export</td>\n",
       "      <td>0</td>\n",
       "      <td>W00</td>\n",
       "      <td>World</td>\n",
       "      <td>0</td>\n",
       "      <td>W00</td>\n",
       "      <td>World</td>\n",
       "      <td>H6</td>\n",
       "      <td>HS</td>\n",
       "      <td>True</td>\n",
       "      <td>90111</td>\n",
       "      <td>Coffee; not roasted or decaffeinated</td>\n",
       "      <td>6</td>\n",
       "      <td>True</td>\n",
       "      <td>C00</td>\n",
       "      <td>TOTAL CPC</td>\n",
       "      <td>0</td>\n",
       "      <td>0</td>\n",
       "      <td>TOTAL MOT</td>\n",
       "      <td>8</td>\n",
       "      <td>kg</td>\n",
       "      <td>66749600.00</td>\n",
       "      <td>False</td>\n",
       "      <td>8</td>\n",
       "      <td>kg</td>\n",
       "      <td>66749600.00</td>\n",
       "      <td>False</td>\n",
       "      <td>66749600.00</td>\n",
       "      <td>False</td>\n",
       "      <td>0</td>\n",
       "      <td>False</td>\n",
       "      <td>NaN</td>\n",
       "      <td>2.940802e+08</td>\n",
       "      <td>2.940802e+08</td>\n",
       "      <td>0</td>\n",
       "      <td>False</td>\n",
       "      <td>True</td>\n",
       "      <td>NaN</td>\n",
       "    </tr>\n",
       "    <tr>\n",
       "      <th>8904</th>\n",
       "      <td>C</td>\n",
       "      <td>M</td>\n",
       "      <td>20231201</td>\n",
       "      <td>2023</td>\n",
       "      <td>12</td>\n",
       "      <td>202312</td>\n",
       "      <td>170</td>\n",
       "      <td>COL</td>\n",
       "      <td>Colombia</td>\n",
       "      <td>X</td>\n",
       "      <td>Export</td>\n",
       "      <td>0</td>\n",
       "      <td>W00</td>\n",
       "      <td>World</td>\n",
       "      <td>0</td>\n",
       "      <td>W00</td>\n",
       "      <td>World</td>\n",
       "      <td>H6</td>\n",
       "      <td>HS</td>\n",
       "      <td>True</td>\n",
       "      <td>90112</td>\n",
       "      <td>Coffee; decaffeinated, not roasted</td>\n",
       "      <td>6</td>\n",
       "      <td>True</td>\n",
       "      <td>C00</td>\n",
       "      <td>TOTAL CPC</td>\n",
       "      <td>0</td>\n",
       "      <td>0</td>\n",
       "      <td>TOTAL MOT</td>\n",
       "      <td>8</td>\n",
       "      <td>kg</td>\n",
       "      <td>393139.00</td>\n",
       "      <td>False</td>\n",
       "      <td>8</td>\n",
       "      <td>kg</td>\n",
       "      <td>393139.00</td>\n",
       "      <td>False</td>\n",
       "      <td>393139.00</td>\n",
       "      <td>False</td>\n",
       "      <td>0</td>\n",
       "      <td>False</td>\n",
       "      <td>NaN</td>\n",
       "      <td>2.122915e+06</td>\n",
       "      <td>2.122915e+06</td>\n",
       "      <td>0</td>\n",
       "      <td>False</td>\n",
       "      <td>True</td>\n",
       "      <td>NaN</td>\n",
       "    </tr>\n",
       "    <tr>\n",
       "      <th>8905</th>\n",
       "      <td>C</td>\n",
       "      <td>M</td>\n",
       "      <td>20231201</td>\n",
       "      <td>2023</td>\n",
       "      <td>12</td>\n",
       "      <td>202312</td>\n",
       "      <td>170</td>\n",
       "      <td>COL</td>\n",
       "      <td>Colombia</td>\n",
       "      <td>X</td>\n",
       "      <td>Export</td>\n",
       "      <td>0</td>\n",
       "      <td>W00</td>\n",
       "      <td>World</td>\n",
       "      <td>0</td>\n",
       "      <td>W00</td>\n",
       "      <td>World</td>\n",
       "      <td>H6</td>\n",
       "      <td>HS</td>\n",
       "      <td>True</td>\n",
       "      <td>90121</td>\n",
       "      <td>Coffee; roasted, not decaffeinated</td>\n",
       "      <td>6</td>\n",
       "      <td>True</td>\n",
       "      <td>C00</td>\n",
       "      <td>TOTAL CPC</td>\n",
       "      <td>0</td>\n",
       "      <td>0</td>\n",
       "      <td>TOTAL MOT</td>\n",
       "      <td>8</td>\n",
       "      <td>kg</td>\n",
       "      <td>1094070.40</td>\n",
       "      <td>False</td>\n",
       "      <td>8</td>\n",
       "      <td>kg</td>\n",
       "      <td>1094070.40</td>\n",
       "      <td>False</td>\n",
       "      <td>1094070.40</td>\n",
       "      <td>False</td>\n",
       "      <td>0</td>\n",
       "      <td>False</td>\n",
       "      <td>NaN</td>\n",
       "      <td>9.145831e+06</td>\n",
       "      <td>9.145831e+06</td>\n",
       "      <td>0</td>\n",
       "      <td>False</td>\n",
       "      <td>True</td>\n",
       "      <td>NaN</td>\n",
       "    </tr>\n",
       "    <tr>\n",
       "      <th>8906</th>\n",
       "      <td>C</td>\n",
       "      <td>M</td>\n",
       "      <td>20231201</td>\n",
       "      <td>2023</td>\n",
       "      <td>12</td>\n",
       "      <td>202312</td>\n",
       "      <td>170</td>\n",
       "      <td>COL</td>\n",
       "      <td>Colombia</td>\n",
       "      <td>X</td>\n",
       "      <td>Export</td>\n",
       "      <td>0</td>\n",
       "      <td>W00</td>\n",
       "      <td>World</td>\n",
       "      <td>0</td>\n",
       "      <td>W00</td>\n",
       "      <td>World</td>\n",
       "      <td>H6</td>\n",
       "      <td>HS</td>\n",
       "      <td>True</td>\n",
       "      <td>90122</td>\n",
       "      <td>Coffee; roasted, decaffeinated</td>\n",
       "      <td>6</td>\n",
       "      <td>True</td>\n",
       "      <td>C00</td>\n",
       "      <td>TOTAL CPC</td>\n",
       "      <td>0</td>\n",
       "      <td>0</td>\n",
       "      <td>TOTAL MOT</td>\n",
       "      <td>8</td>\n",
       "      <td>kg</td>\n",
       "      <td>6606.80</td>\n",
       "      <td>False</td>\n",
       "      <td>8</td>\n",
       "      <td>kg</td>\n",
       "      <td>6606.80</td>\n",
       "      <td>False</td>\n",
       "      <td>6606.80</td>\n",
       "      <td>False</td>\n",
       "      <td>0</td>\n",
       "      <td>False</td>\n",
       "      <td>NaN</td>\n",
       "      <td>7.191049e+04</td>\n",
       "      <td>7.191049e+04</td>\n",
       "      <td>0</td>\n",
       "      <td>False</td>\n",
       "      <td>True</td>\n",
       "      <td>NaN</td>\n",
       "    </tr>\n",
       "  </tbody>\n",
       "</table>\n",
       "<p>8907 rows × 48 columns</p>\n",
       "</div>"
      ],
      "text/plain": [
       "     TypeCode FreqCode  RefPeriodId  RefYear  RefMonth  Period  ReporterCode  \\\n",
       "0           C        M     20170101     2017         1  201701           170   \n",
       "1           C        M     20170101     2017         1  201701           170   \n",
       "2           C        M     20170101     2017         1  201701           170   \n",
       "3           C        M     20170101     2017         1  201701           170   \n",
       "4           C        M     20170101     2017         1  201701           170   \n",
       "...       ...      ...          ...      ...       ...     ...           ...   \n",
       "8902        C        M     20231201     2023        12  202312           170   \n",
       "8903        C        M     20231201     2023        12  202312           170   \n",
       "8904        C        M     20231201     2023        12  202312           170   \n",
       "8905        C        M     20231201     2023        12  202312           170   \n",
       "8906        C        M     20231201     2023        12  202312           170   \n",
       "\n",
       "     ReporterISO ReporterDesc FlowCode FlowDesc  PartnerCode PartnerISO  \\\n",
       "0            COL     Colombia        X   Export          899        _X    \n",
       "1            COL     Colombia        X   Export           32        ARG   \n",
       "2            COL     Colombia        X   Export          533        ABW   \n",
       "3            COL     Colombia        X   Export           36        AUS   \n",
       "4            COL     Colombia        X   Export           56        BEL   \n",
       "...          ...          ...      ...      ...          ...        ...   \n",
       "8902         COL     Colombia        M   Import            0        W00   \n",
       "8903         COL     Colombia        X   Export            0        W00   \n",
       "8904         COL     Colombia        X   Export            0        W00   \n",
       "8905         COL     Colombia        X   Export            0        W00   \n",
       "8906         COL     Colombia        X   Export            0        W00   \n",
       "\n",
       "     PartnerDesc  Partner2Code Partner2ISO Partner2Desc ClassificationCode  \\\n",
       "0     Areas, nes             0         W00        World                 H5   \n",
       "1      Argentina             0         W00        World                 H5   \n",
       "2          Aruba             0         W00        World                 H5   \n",
       "3      Australia             0         W00        World                 H5   \n",
       "4        Belgium             0         W00        World                 H5   \n",
       "...          ...           ...         ...          ...                ...   \n",
       "8902       World             0         W00        World                 H6   \n",
       "8903       World             0         W00        World                 H6   \n",
       "8904       World             0         W00        World                 H6   \n",
       "8905       World             0         W00        World                 H6   \n",
       "8906       World             0         W00        World                 H6   \n",
       "\n",
       "     ClassificationSearchCode  IsOriginalClassification  CmdCode  \\\n",
       "0                          HS                      True    90121   \n",
       "1                          HS                      True    90111   \n",
       "2                          HS                      True    90121   \n",
       "3                          HS                      True    90111   \n",
       "4                          HS                      True    90111   \n",
       "...                       ...                       ...      ...   \n",
       "8902                       HS                      True    90122   \n",
       "8903                       HS                      True    90111   \n",
       "8904                       HS                      True    90112   \n",
       "8905                       HS                      True    90121   \n",
       "8906                       HS                      True    90122   \n",
       "\n",
       "                                   CmdDesc  AggrLevel  IsLeaf CustomsCode  \\\n",
       "0       Coffee; roasted, not decaffeinated          6    True         C00   \n",
       "1     Coffee; not roasted or decaffeinated          6    True         C00   \n",
       "2       Coffee; roasted, not decaffeinated          6    True         C00   \n",
       "3     Coffee; not roasted or decaffeinated          6    True         C00   \n",
       "4     Coffee; not roasted or decaffeinated          6    True         C00   \n",
       "...                                    ...        ...     ...         ...   \n",
       "8902        Coffee; roasted, decaffeinated          6    True         C00   \n",
       "8903  Coffee; not roasted or decaffeinated          6    True         C00   \n",
       "8904    Coffee; decaffeinated, not roasted          6    True         C00   \n",
       "8905    Coffee; roasted, not decaffeinated          6    True         C00   \n",
       "8906        Coffee; roasted, decaffeinated          6    True         C00   \n",
       "\n",
       "     CustomsDesc  MosCode  MotCode    MotDesc  QtyUnitCode QtyUnitAbbr  \\\n",
       "0      TOTAL CPC        0        0  TOTAL MOT            8          kg   \n",
       "1      TOTAL CPC        0        0  TOTAL MOT            8          kg   \n",
       "2      TOTAL CPC        0        0  TOTAL MOT            8          kg   \n",
       "3      TOTAL CPC        0        0  TOTAL MOT            8          kg   \n",
       "4      TOTAL CPC        0        0  TOTAL MOT            8          kg   \n",
       "...          ...      ...      ...        ...          ...         ...   \n",
       "8902   TOTAL CPC        0        0  TOTAL MOT            8          kg   \n",
       "8903   TOTAL CPC        0        0  TOTAL MOT            8          kg   \n",
       "8904   TOTAL CPC        0        0  TOTAL MOT            8          kg   \n",
       "8905   TOTAL CPC        0        0  TOTAL MOT            8          kg   \n",
       "8906   TOTAL CPC        0        0  TOTAL MOT            8          kg   \n",
       "\n",
       "              Qty  IsQtyEstimated  AltQtyUnitCode AltQtyUnitAbbr       AltQty  \\\n",
       "0         1484.84           False               8             kg      1484.84   \n",
       "1        98202.00           False               8             kg     98202.00   \n",
       "2          525.00           False               8             kg       525.00   \n",
       "3       621420.00           False               8             kg    621420.00   \n",
       "4      2452090.00           False               8             kg   2452090.00   \n",
       "...           ...             ...             ...            ...          ...   \n",
       "8902       229.81           False               8             kg       229.81   \n",
       "8903  66749600.00           False               8             kg  66749600.00   \n",
       "8904    393139.00           False               8             kg    393139.00   \n",
       "8905   1094070.40           False               8             kg   1094070.40   \n",
       "8906      6606.80           False               8             kg      6606.80   \n",
       "\n",
       "      IsAltQtyEstimated       NetWgt  IsNetWgtEstimated  GrossWgt  \\\n",
       "0                 False      1484.84              False         0   \n",
       "1                 False     98202.00              False         0   \n",
       "2                 False       525.00              False         0   \n",
       "3                 False    621420.00              False         0   \n",
       "4                 False   2452090.00              False         0   \n",
       "...                 ...          ...                ...       ...   \n",
       "8902              False       229.81              False         0   \n",
       "8903              False  66749600.00              False         0   \n",
       "8904              False    393139.00              False         0   \n",
       "8905              False   1094070.40              False         0   \n",
       "8906              False      6606.80              False         0   \n",
       "\n",
       "      IsGrossWgtEstimated  Cifvalue      Fobvalue  PrimaryValue  \\\n",
       "0                   False      0.00  2.499957e+04  2.499957e+04   \n",
       "1                   False      0.00  3.931844e+05  3.931844e+05   \n",
       "2                   False      0.00  4.481000e+03  4.481000e+03   \n",
       "3                   False      0.00  2.443180e+06  2.443180e+06   \n",
       "4                   False      0.00  9.986221e+06  9.986221e+06   \n",
       "...                   ...       ...           ...           ...   \n",
       "8902                False   6298.43  6.112320e+03  6.298430e+03   \n",
       "8903                False       NaN  2.940802e+08  2.940802e+08   \n",
       "8904                False       NaN  2.122915e+06  2.122915e+06   \n",
       "8905                False       NaN  9.145831e+06  9.145831e+06   \n",
       "8906                False       NaN  7.191049e+04  7.191049e+04   \n",
       "\n",
       "      LegacyEstimationFlag  IsReported  IsAggregate  Unnamed: 47  \n",
       "0                        0       False         True          NaN  \n",
       "1                        0       False         True          NaN  \n",
       "2                        0       False         True          NaN  \n",
       "3                        0       False         True          NaN  \n",
       "4                        0       False         True          NaN  \n",
       "...                    ...         ...          ...          ...  \n",
       "8902                     0       False         True          NaN  \n",
       "8903                     0       False         True          NaN  \n",
       "8904                     0       False         True          NaN  \n",
       "8905                     0       False         True          NaN  \n",
       "8906                     0       False         True          NaN  \n",
       "\n",
       "[8907 rows x 48 columns]"
      ]
     },
     "execution_count": 5,
     "metadata": {},
     "output_type": "execute_result"
    }
   ],
   "source": [
    "colombia_trade_raw"
   ]
  },
  {
   "cell_type": "code",
   "execution_count": 6,
   "metadata": {},
   "outputs": [
    {
     "data": {
      "text/plain": [
       "(8907, 48)"
      ]
     },
     "execution_count": 6,
     "metadata": {},
     "output_type": "execute_result"
    }
   ],
   "source": [
    "colombia_trade_raw.shape"
   ]
  },
  {
   "cell_type": "markdown",
   "metadata": {},
   "source": [
    "## 3. Data Cleaning"
   ]
  },
  {
   "cell_type": "code",
   "execution_count": 7,
   "metadata": {},
   "outputs": [
    {
     "data": {
      "text/plain": [
       "(8044, 13)"
      ]
     },
     "execution_count": 7,
     "metadata": {},
     "output_type": "execute_result"
    }
   ],
   "source": [
    "colombia_trade = clean_and_prepare_dataframe(colombia_trade_raw)\n",
    "colombia_trade.shape"
   ]
  },
  {
   "cell_type": "code",
   "execution_count": 8,
   "metadata": {},
   "outputs": [
    {
     "data": {
      "text/html": [
       "<div>\n",
       "<style scoped>\n",
       "    .dataframe tbody tr th:only-of-type {\n",
       "        vertical-align: middle;\n",
       "    }\n",
       "\n",
       "    .dataframe tbody tr th {\n",
       "        vertical-align: top;\n",
       "    }\n",
       "\n",
       "    .dataframe thead th {\n",
       "        text-align: right;\n",
       "    }\n",
       "</style>\n",
       "<table border=\"1\" class=\"dataframe\">\n",
       "  <thead>\n",
       "    <tr style=\"text-align: right;\">\n",
       "      <th></th>\n",
       "      <th>Year</th>\n",
       "      <th>Month</th>\n",
       "      <th>Period</th>\n",
       "      <th>ReporterISO</th>\n",
       "      <th>ReporterDesc</th>\n",
       "      <th>FlowCode</th>\n",
       "      <th>FlowDesc</th>\n",
       "      <th>PartnerISO</th>\n",
       "      <th>PartnerDesc</th>\n",
       "      <th>CmdCode</th>\n",
       "      <th>CmdDesc</th>\n",
       "      <th>Qty_in_kg</th>\n",
       "      <th>PrimaryValue</th>\n",
       "    </tr>\n",
       "  </thead>\n",
       "  <tbody>\n",
       "    <tr>\n",
       "      <th>1</th>\n",
       "      <td>2017</td>\n",
       "      <td>1</td>\n",
       "      <td>201701</td>\n",
       "      <td>COL</td>\n",
       "      <td>Colombia</td>\n",
       "      <td>X</td>\n",
       "      <td>Export</td>\n",
       "      <td>ARG</td>\n",
       "      <td>Argentina</td>\n",
       "      <td>90111</td>\n",
       "      <td>Coffee; not roasted or decaffeinated</td>\n",
       "      <td>98202.0</td>\n",
       "      <td>393184.36</td>\n",
       "    </tr>\n",
       "    <tr>\n",
       "      <th>2</th>\n",
       "      <td>2017</td>\n",
       "      <td>1</td>\n",
       "      <td>201701</td>\n",
       "      <td>COL</td>\n",
       "      <td>Colombia</td>\n",
       "      <td>X</td>\n",
       "      <td>Export</td>\n",
       "      <td>ABW</td>\n",
       "      <td>Aruba</td>\n",
       "      <td>90121</td>\n",
       "      <td>Coffee; roasted, not decaffeinated</td>\n",
       "      <td>525.0</td>\n",
       "      <td>4481.00</td>\n",
       "    </tr>\n",
       "    <tr>\n",
       "      <th>3</th>\n",
       "      <td>2017</td>\n",
       "      <td>1</td>\n",
       "      <td>201701</td>\n",
       "      <td>COL</td>\n",
       "      <td>Colombia</td>\n",
       "      <td>X</td>\n",
       "      <td>Export</td>\n",
       "      <td>AUS</td>\n",
       "      <td>Australia</td>\n",
       "      <td>90111</td>\n",
       "      <td>Coffee; not roasted or decaffeinated</td>\n",
       "      <td>621420.0</td>\n",
       "      <td>2443180.34</td>\n",
       "    </tr>\n",
       "    <tr>\n",
       "      <th>4</th>\n",
       "      <td>2017</td>\n",
       "      <td>1</td>\n",
       "      <td>201701</td>\n",
       "      <td>COL</td>\n",
       "      <td>Colombia</td>\n",
       "      <td>X</td>\n",
       "      <td>Export</td>\n",
       "      <td>BEL</td>\n",
       "      <td>Belgium</td>\n",
       "      <td>90111</td>\n",
       "      <td>Coffee; not roasted or decaffeinated</td>\n",
       "      <td>2452090.0</td>\n",
       "      <td>9986220.53</td>\n",
       "    </tr>\n",
       "    <tr>\n",
       "      <th>5</th>\n",
       "      <td>2017</td>\n",
       "      <td>1</td>\n",
       "      <td>201701</td>\n",
       "      <td>COL</td>\n",
       "      <td>Colombia</td>\n",
       "      <td>X</td>\n",
       "      <td>Export</td>\n",
       "      <td>BOL</td>\n",
       "      <td>Bolivia, Plurinational State of</td>\n",
       "      <td>90121</td>\n",
       "      <td>Coffee; roasted, not decaffeinated</td>\n",
       "      <td>1944.0</td>\n",
       "      <td>24373.41</td>\n",
       "    </tr>\n",
       "  </tbody>\n",
       "</table>\n",
       "</div>"
      ],
      "text/plain": [
       "   Year  Month  Period ReporterISO ReporterDesc FlowCode FlowDesc PartnerISO  \\\n",
       "1  2017      1  201701         COL     Colombia        X   Export        ARG   \n",
       "2  2017      1  201701         COL     Colombia        X   Export        ABW   \n",
       "3  2017      1  201701         COL     Colombia        X   Export        AUS   \n",
       "4  2017      1  201701         COL     Colombia        X   Export        BEL   \n",
       "5  2017      1  201701         COL     Colombia        X   Export        BOL   \n",
       "\n",
       "                       PartnerDesc  CmdCode  \\\n",
       "1                        Argentina    90111   \n",
       "2                            Aruba    90121   \n",
       "3                        Australia    90111   \n",
       "4                          Belgium    90111   \n",
       "5  Bolivia, Plurinational State of    90121   \n",
       "\n",
       "                                CmdDesc  Qty_in_kg  PrimaryValue  \n",
       "1  Coffee; not roasted or decaffeinated    98202.0     393184.36  \n",
       "2    Coffee; roasted, not decaffeinated      525.0       4481.00  \n",
       "3  Coffee; not roasted or decaffeinated   621420.0    2443180.34  \n",
       "4  Coffee; not roasted or decaffeinated  2452090.0    9986220.53  \n",
       "5    Coffee; roasted, not decaffeinated     1944.0      24373.41  "
      ]
     },
     "execution_count": 8,
     "metadata": {},
     "output_type": "execute_result"
    }
   ],
   "source": [
    "colombia_trade.head()"
   ]
  },
  {
   "cell_type": "markdown",
   "metadata": {},
   "source": [
    "### Missing data (Null values)"
   ]
  },
  {
   "cell_type": "code",
   "execution_count": 9,
   "metadata": {},
   "outputs": [
    {
     "data": {
      "text/plain": [
       "Year            0\n",
       "Month           0\n",
       "Period          0\n",
       "ReporterISO     0\n",
       "ReporterDesc    0\n",
       "FlowCode        0\n",
       "FlowDesc        0\n",
       "PartnerISO      0\n",
       "PartnerDesc     0\n",
       "CmdCode         0\n",
       "CmdDesc         0\n",
       "Qty_in_kg       0\n",
       "PrimaryValue    0\n",
       "dtype: int64"
      ]
     },
     "execution_count": 9,
     "metadata": {},
     "output_type": "execute_result"
    }
   ],
   "source": [
    "# Checking for missing data\n",
    "colombia_trade.isnull().sum().sort_values(ascending=False)"
   ]
  },
  {
   "cell_type": "markdown",
   "metadata": {},
   "source": [
    "### Finding Duplicates"
   ]
  },
  {
   "cell_type": "code",
   "execution_count": 10,
   "metadata": {},
   "outputs": [
    {
     "data": {
      "text/plain": [
       "0"
      ]
     },
     "execution_count": 10,
     "metadata": {},
     "output_type": "execute_result"
    }
   ],
   "source": [
    "# Find duplicates\n",
    "colombia_trade.duplicated().sum()"
   ]
  },
  {
   "cell_type": "markdown",
   "metadata": {},
   "source": [
    "### Filtering Data"
   ]
  },
  {
   "cell_type": "code",
   "execution_count": null,
   "metadata": {},
   "outputs": [],
   "source": [
    "# As colombia_trade includes data from Jan 2017 up to Feb 2024, let's filter the dataset up to the end of 2023.\n",
    "# This condition will include all rows where the 'Period' is less than or equal to 202312 (December 2023).\n",
    "colombia_trade = colombia_trade[colombia_trade['Period'] <= 202312]\n",
    "colombia_trade"
   ]
  },
  {
   "cell_type": "markdown",
   "metadata": {},
   "source": [
    "## Exploratory Data Analysis"
   ]
  },
  {
   "cell_type": "code",
   "execution_count": null,
   "metadata": {},
   "outputs": [],
   "source": []
  },
  {
   "cell_type": "markdown",
   "metadata": {},
   "source": [
    "### Initial Exploration"
   ]
  },
  {
   "cell_type": "code",
   "execution_count": null,
   "metadata": {},
   "outputs": [],
   "source": [
    "colombia_trade.head()"
   ]
  },
  {
   "cell_type": "code",
   "execution_count": null,
   "metadata": {},
   "outputs": [],
   "source": [
    "# Retrieving the number of rows and columns in the dataframe\n",
    "colombia_trade.shape"
   ]
  },
  {
   "cell_type": "code",
   "execution_count": null,
   "metadata": {},
   "outputs": [],
   "source": [
    "# Displaying the data types of each column in the dataframe\n",
    "colombia_trade.dtypes"
   ]
  },
  {
   "cell_type": "markdown",
   "metadata": {},
   "source": [
    "### Exploring numerical and categorical variables"
   ]
  },
  {
   "cell_type": "code",
   "execution_count": null,
   "metadata": {},
   "outputs": [],
   "source": [
    "# Retrieving the unique data types present in the dataframe columns\n",
    "list(set(colombia_trade.dtypes.tolist()))"
   ]
  },
  {
   "cell_type": "code",
   "execution_count": null,
   "metadata": {},
   "outputs": [],
   "source": [
    "# Extracting column names with numerical data types from the dataframe\n",
    "colombia_trade.select_dtypes(\"number\").columns"
   ]
  },
  {
   "cell_type": "code",
   "execution_count": null,
   "metadata": {},
   "outputs": [],
   "source": [
    "# Counting and sorting the unique values for each numerical column in descending order\n",
    "colombia_trade.select_dtypes(\"number\").nunique().sort_values(ascending=False)"
   ]
  },
  {
   "cell_type": "code",
   "execution_count": null,
   "metadata": {},
   "outputs": [],
   "source": [
    "# Separating between discrete and continuous variables, as discrete ones could potentially be treated as categorical.\n",
    "# Remember to adjust the threshold (in this case, < 20) based on your dataset's specific characteristics and domain knowledge.\n",
    "potential_categorical_from_numerical = colombia_trade.select_dtypes(\"number\").loc[:, colombia_trade.select_dtypes(\"number\").nunique() < 90]\n",
    "potential_categorical_from_numerical"
   ]
  },
  {
   "cell_type": "code",
   "execution_count": null,
   "metadata": {},
   "outputs": [],
   "source": [
    "# Retrieving column names with object (typically string) data types from the dataframe\n",
    "colombia_trade.select_dtypes(\"object\").columns"
   ]
  },
  {
   "cell_type": "code",
   "execution_count": null,
   "metadata": {},
   "outputs": [],
   "source": [
    "# Counting and sorting the unique values for each object (string) column in descending order\n",
    "colombia_trade.select_dtypes(\"object\").nunique().sort_values(ascending=False)\n",
    "\n",
    "# All columns seem categorical, as there isn't a wide variability of values.\n",
    "# Country related columns have a considerable number of values but it's expected. "
   ]
  },
  {
   "cell_type": "code",
   "execution_count": null,
   "metadata": {},
   "outputs": [],
   "source": [
    "# Extracting columns with object (typically string) data types to create a categorical dataframe\n",
    "# For demonstration purposes, let's consider the columns in potential_categorical_from_numerical as categorical variables.\n",
    "colombia_trade_categorical = pd.concat([colombia_trade.select_dtypes(\"object\"), potential_categorical_from_numerical], axis=1)\n",
    "\n",
    "# Adjusting the numerical dataframe by removing the moved columns\n",
    "colombia_trade_numerical = colombia_trade.select_dtypes(\"number\").drop(columns=potential_categorical_from_numerical.columns)"
   ]
  },
  {
   "cell_type": "code",
   "execution_count": null,
   "metadata": {},
   "outputs": [],
   "source": [
    "# Verifying that the total number of columns in the dataframe is the sum of object (string) and numerical columns\n",
    "len(colombia_trade.columns) == len(colombia_trade.select_dtypes(\"object\").columns) + len(colombia_trade.select_dtypes(\"number\").columns)"
   ]
  },
  {
   "cell_type": "markdown",
   "metadata": {},
   "source": [
    "### Categorical Variables"
   ]
  },
  {
   "cell_type": "code",
   "execution_count": null,
   "metadata": {},
   "outputs": [],
   "source": [
    "colombia_trade_categorical.head()"
   ]
  },
  {
   "cell_type": "markdown",
   "metadata": {},
   "source": [
    "#### Trade Type: FlowDesc"
   ]
  },
  {
   "cell_type": "code",
   "execution_count": null,
   "metadata": {},
   "outputs": [],
   "source": [
    "# Frequency table for 'FlowDesc'\n",
    "frequency_table = colombia_trade['FlowDesc'].value_counts()\n",
    "\n",
    "# Calculating the proportion of each unique value in the 'FlowDesc'\n",
    "proportion_table = colombia_trade['FlowDesc'].value_counts(normalize=True)\n",
    "\n",
    "frequency_table, proportion_table"
   ]
  },
  {
   "cell_type": "code",
   "execution_count": null,
   "metadata": {},
   "outputs": [],
   "source": [
    "# Creating a crosstab table for the 'FlowDesc' column, counting occurrences for each unique value\n",
    "FlowDesc_ct = pd.crosstab(index = colombia_trade_categorical['FlowDesc'],  # Make a crosstab\n",
    "                              columns=\"count\")      # Name the count column\n",
    "FlowDesc_ct"
   ]
  },
  {
   "cell_type": "code",
   "execution_count": null,
   "metadata": {},
   "outputs": [],
   "source": [
    "# Calculating the proportions for each value in 'FlowDesc_ct' and rounding the results to two decimal places\n",
    "(FlowDesc_ct/FlowDesc_ct.sum()).round(2)"
   ]
  },
  {
   "cell_type": "code",
   "execution_count": null,
   "metadata": {},
   "outputs": [],
   "source": [
    "# Plotting a pie chart of the 'FlowDesc' column value counts, with percentage labels, \n",
    "# starting at angle 90, and using colors from the \"Set3\" Seaborn palette\n",
    "colombia_trade['FlowDesc'].value_counts().plot.pie(autopct='%1.1f%%', startangle=90, colors=sns.color_palette(\"Set3\"))"
   ]
  },
  {
   "cell_type": "markdown",
   "metadata": {},
   "source": [
    "#### Trade Type: CmdCode"
   ]
  },
  {
   "cell_type": "markdown",
   "metadata": {},
   "source": [
    "### Numerical Variables"
   ]
  },
  {
   "cell_type": "code",
   "execution_count": null,
   "metadata": {},
   "outputs": [],
   "source": [
    "colombia_trade_numerical.head()"
   ]
  },
  {
   "cell_type": "markdown",
   "metadata": {},
   "source": [
    "#### Correlation matrix"
   ]
  },
  {
   "cell_type": "code",
   "execution_count": null,
   "metadata": {},
   "outputs": [],
   "source": [
    "# Compute the correlation matrix\n",
    "correlation_matrix = colombia_trade_numerical.corr()\n",
    "\n",
    "# Display the correlation matrix\n",
    "print(correlation_matrix)"
   ]
  },
  {
   "cell_type": "code",
   "execution_count": null,
   "metadata": {},
   "outputs": [],
   "source": [
    "# Summary statistics for the dataset\n",
    "colombia_trade_numerical.describe()"
   ]
  },
  {
   "cell_type": "markdown",
   "metadata": {},
   "source": [
    "### Univariable Analysis"
   ]
  },
  {
   "cell_type": "code",
   "execution_count": null,
   "metadata": {},
   "outputs": [],
   "source": [
    "colombia_trade.columns"
   ]
  },
  {
   "cell_type": "markdown",
   "metadata": {},
   "source": [
    "#### Year"
   ]
  },
  {
   "cell_type": "code",
   "execution_count": null,
   "metadata": {},
   "outputs": [],
   "source": [
    "colombia_trade['Year'].nunique() # 8 years of data, from 2017 up to 2024"
   ]
  },
  {
   "cell_type": "code",
   "execution_count": null,
   "metadata": {},
   "outputs": [],
   "source": [
    "colombia_trade['Year'].unique() # All years are included"
   ]
  },
  {
   "cell_type": "markdown",
   "metadata": {},
   "source": [
    "#### Month"
   ]
  },
  {
   "cell_type": "code",
   "execution_count": null,
   "metadata": {},
   "outputs": [],
   "source": [
    "colombia_trade['Month'].nunique() # 12 months per each year"
   ]
  },
  {
   "cell_type": "code",
   "execution_count": null,
   "metadata": {},
   "outputs": [],
   "source": [
    "colombia_trade['Month'].unique() # All months are included"
   ]
  },
  {
   "cell_type": "markdown",
   "metadata": {},
   "source": [
    "#### Period"
   ]
  },
  {
   "cell_type": "code",
   "execution_count": null,
   "metadata": {},
   "outputs": [],
   "source": [
    "colombia_trade['Period'].nunique() # Combination of Year and Month\n",
    "# Expected output of 91-92 (84 full years plus 7 or 8 up to Jul-Aug 2024), missing 5 periods (from Mar 2024)"
   ]
  },
  {
   "cell_type": "code",
   "execution_count": null,
   "metadata": {},
   "outputs": [],
   "source": [
    "colombia_trade['Period'].unique()\n",
    "# Data from Jan 2017 up to Feb 2024, missing last 5 months"
   ]
  },
  {
   "cell_type": "code",
   "execution_count": null,
   "metadata": {},
   "outputs": [],
   "source": [
    "#TODO\n",
    "# take out 2 months of 2014?"
   ]
  },
  {
   "cell_type": "markdown",
   "metadata": {},
   "source": [
    "#### ReporterISO"
   ]
  },
  {
   "cell_type": "code",
   "execution_count": null,
   "metadata": {},
   "outputs": [],
   "source": [
    "colombia_trade['ReporterISO'].nunique() # Only one code for now, as this dataset is just only Colombia market"
   ]
  },
  {
   "cell_type": "code",
   "execution_count": null,
   "metadata": {},
   "outputs": [],
   "source": [
    "colombia_trade['ReporterISO'].unique() # Only one code for now, as this dataset is just only Colombia market"
   ]
  },
  {
   "cell_type": "markdown",
   "metadata": {},
   "source": [
    "#### ReporterDesc"
   ]
  },
  {
   "cell_type": "code",
   "execution_count": null,
   "metadata": {},
   "outputs": [],
   "source": [
    "colombia_trade['ReporterDesc'].nunique() # Expected output: 1 as this dataset is just Colombia market"
   ]
  },
  {
   "cell_type": "code",
   "execution_count": null,
   "metadata": {},
   "outputs": [],
   "source": [
    "colombia_trade['ReporterDesc'].unique() # Expected output: Colombia "
   ]
  },
  {
   "cell_type": "markdown",
   "metadata": {},
   "source": [
    "#### FlowDesc"
   ]
  },
  {
   "cell_type": "code",
   "execution_count": null,
   "metadata": {},
   "outputs": [],
   "source": [
    "colombia_trade['FlowDesc'].nunique() # Expected number of types of trade (Exports and Imports)"
   ]
  },
  {
   "cell_type": "code",
   "execution_count": null,
   "metadata": {},
   "outputs": [],
   "source": [
    "colombia_trade['FlowDesc'].unique() # Expected types of trade (Exports and Imports)"
   ]
  },
  {
   "cell_type": "markdown",
   "metadata": {},
   "source": [
    "#### PartnerISO"
   ]
  },
  {
   "cell_type": "code",
   "execution_count": null,
   "metadata": {},
   "outputs": [],
   "source": [
    "colombia_trade['PartnerISO'].nunique() # Number of countries that have traded with Colombia in those years\n",
    "# Count of ISO 3 letter country code for trade partners"
   ]
  },
  {
   "cell_type": "code",
   "execution_count": null,
   "metadata": {},
   "outputs": [],
   "source": [
    "colombia_trade['PartnerISO'].unique() # List of commercial partners (country ISO abbrevations of 3 letters)\n",
    "# Unexpected: '_X ', 'X2 ', 'S19'\n",
    "# TODO codes abbrevations match the ISO?"
   ]
  },
  {
   "cell_type": "markdown",
   "metadata": {},
   "source": [
    "#### PartnerDesc"
   ]
  },
  {
   "cell_type": "code",
   "execution_count": null,
   "metadata": {},
   "outputs": [],
   "source": [
    "colombia_trade['PartnerDesc'].nunique() # Number of countries that have traded with Colombia in those years"
   ]
  },
  {
   "cell_type": "code",
   "execution_count": null,
   "metadata": {},
   "outputs": [],
   "source": [
    "colombia_trade['PartnerDesc'].unique() # List of commercial partners (country names)\n",
    "# Unexpected: 'Areas, nes' and 'Other Asia, nes'.\n",
    "# TODO to confirm official name:'China', 'China, Hong Kong SAR' and 'China, Macao SAR' are not duplicates?\n",
    "# TODO names convention match the ISO?"
   ]
  },
  {
   "cell_type": "markdown",
   "metadata": {},
   "source": [
    "#### CmdCode"
   ]
  },
  {
   "cell_type": "code",
   "execution_count": null,
   "metadata": {},
   "outputs": [],
   "source": [
    "colombia_trade['CmdCode'].nunique() # Expected output 4, for the commodities codes included in this report."
   ]
  },
  {
   "cell_type": "code",
   "execution_count": null,
   "metadata": {},
   "outputs": [],
   "source": [
    "colombia_trade['CmdCode'].unique() # Expected commodities codes."
   ]
  },
  {
   "cell_type": "markdown",
   "metadata": {},
   "source": [
    "#### Qty_in_kg"
   ]
  },
  {
   "cell_type": "code",
   "execution_count": null,
   "metadata": {},
   "outputs": [],
   "source": [
    "colombia_trade['Qty_in_kg'].nunique()"
   ]
  },
  {
   "cell_type": "code",
   "execution_count": null,
   "metadata": {},
   "outputs": [],
   "source": [
    "colombia_trade['Qty_in_kg'].describe()"
   ]
  },
  {
   "cell_type": "code",
   "execution_count": null,
   "metadata": {},
   "outputs": [],
   "source": [
    "colombia_trade['Qty_in_kg'].min()"
   ]
  },
  {
   "cell_type": "code",
   "execution_count": null,
   "metadata": {},
   "outputs": [],
   "source": [
    "colombia_trade['Qty_in_kg'].max()"
   ]
  },
  {
   "cell_type": "code",
   "execution_count": null,
   "metadata": {},
   "outputs": [],
   "source": [
    "# Adjust the figure size\n",
    "plt.figure(figsize=(3, 5))\n",
    "colombia_trade['Qty_in_kg'].plot(kind='box')\n",
    "# Adjust the scale of the y-axis\n",
    "plt.ylim(0, 45000000)  # Set the lower and upper limits of the y-axis\n",
    "plt.show()"
   ]
  },
  {
   "cell_type": "markdown",
   "metadata": {},
   "source": [
    "#### PrimaryValue"
   ]
  },
  {
   "cell_type": "code",
   "execution_count": null,
   "metadata": {},
   "outputs": [],
   "source": [
    "colombia_trade['PrimaryValue'].nunique()"
   ]
  },
  {
   "cell_type": "code",
   "execution_count": null,
   "metadata": {},
   "outputs": [],
   "source": [
    "colombia_trade['PrimaryValue'].describe()"
   ]
  },
  {
   "cell_type": "code",
   "execution_count": null,
   "metadata": {},
   "outputs": [],
   "source": [
    "colombia_trade['PrimaryValue'].min()"
   ]
  },
  {
   "cell_type": "code",
   "execution_count": null,
   "metadata": {},
   "outputs": [],
   "source": [
    "colombia_trade['PrimaryValue'].max()"
   ]
  },
  {
   "cell_type": "code",
   "execution_count": null,
   "metadata": {},
   "outputs": [],
   "source": [
    "# Adjust the figure size\n",
    "plt.figure(figsize=(3, 5))\n",
    "colombia_trade['PrimaryValue'].plot(kind='box')\n",
    "# Adjust the scale of the y-axis\n",
    "plt.ylim(0, 180000000)  # Set the lower and upper limits of the y-axis\n",
    "plt.show()"
   ]
  },
  {
   "cell_type": "markdown",
   "metadata": {},
   "source": [
    "### Bivariable Analysis"
   ]
  },
  {
   "cell_type": "markdown",
   "metadata": {},
   "source": [
    "## Insights:"
   ]
  },
  {
   "cell_type": "markdown",
   "metadata": {},
   "source": [
    "- The global coffee market is projected to grow as it is driven by increasing coffee consumption, particularly in emerging markets such as Asia-Pacific, where coffee culture is expanding rapidly.\n",
    "\n",
    "Major Coffee Producing and Consuming Regions:\n",
    "- Producing Regions: The majority of coffee is produced in developing countries, especially in South America (Brazil, Colombia), Asia (Vietnam, Indonesia), and Africa (Ethiopia).\n",
    "\n",
    "- Consuming Regions: The largest coffee markets in terms of consumption are in North America, Europe, and increasingly in Asia-Pacific. Europe leads as the largest consuming region, with 3.2 million metric tons (3,186,000 metric tons) consumed."
   ]
  }
 ],
 "metadata": {
  "kernelspec": {
   "display_name": "Intro.Anaconda",
   "language": "python",
   "name": "python3"
  },
  "language_info": {
   "codemirror_mode": {
    "name": "ipython",
    "version": 3
   },
   "file_extension": ".py",
   "mimetype": "text/x-python",
   "name": "python",
   "nbconvert_exporter": "python",
   "pygments_lexer": "ipython3",
   "version": "3.12.3"
  }
 },
 "nbformat": 4,
 "nbformat_minor": 2
}
