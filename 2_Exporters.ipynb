{
 "cells": [
  {
   "cell_type": "markdown",
   "metadata": {},
   "source": [
    "# Coffee Industry"
   ]
  },
  {
   "cell_type": "markdown",
   "metadata": {},
   "source": [
    "## 1. Business Understanding"
   ]
  },
  {
   "cell_type": "markdown",
   "metadata": {},
   "source": [
    "Despite its strengths, the Colombian coffee industry faces significant challenges, particularly related to climate change. In the 2022/23 coffee year, Colombia experienced a 9.1% decrease in coffee production, largely due to unfavorable weather conditions. This marked the third consecutive year of declining output, bringing production levels to their lowest since 2012.\n",
    "\n",
    "The global coffee market, however, remains robust. As of the 2022/23 coffee year, world coffee production reached 168.2 million bags, with South America accounting for 48.3% of this total. Colombia's contribution, particularly in the Arabica segment, is crucial, but the country must adapt to ongoing environmental challenges to maintain its market position​.\n",
    "\n",
    "\n",
    "Looking forward, the global coffee production for the 2023/24 coffee year is expected to increase by 5.8%, with Arabica output, including Colombian Milds, projected to rise significantly. This anticipated recovery offers hope for the Colombian coffee sector, provided that adaptive strategies to counteract the effects of climate change are implemented effectively.\n",
    "\n",
    "*Source:*\n",
    "- [International Coffee Organization (ICO)](https://icocoffee.org/resources/about-economics-and-statistics/) [Report and Outlook, December 2023](https://icocoffee.org/resources/public-market-information/)"
   ]
  },
  {
   "cell_type": "markdown",
   "metadata": {},
   "source": [
    "## 2. Data Mining"
   ]
  },
  {
   "cell_type": "markdown",
   "metadata": {},
   "source": [
    "### Installs"
   ]
  },
  {
   "cell_type": "code",
   "execution_count": 41,
   "metadata": {},
   "outputs": [],
   "source": [
    "# !pip install "
   ]
  },
  {
   "cell_type": "markdown",
   "metadata": {},
   "source": [
    "### Libraries"
   ]
  },
  {
   "cell_type": "code",
   "execution_count": 1,
   "metadata": {},
   "outputs": [],
   "source": [
    "import numpy as np\n",
    "import pandas as pd\n",
    "import os\n",
    "\n",
    "# Data Profile Reporting Tool\n",
    "from ydata_profiling import ProfileReport\n",
    "# To avoid unneeded warning display\n",
    "import warnings\n",
    "warnings.filterwarnings('ignore')\n",
    "pd.set_option('display.max_columns', None)\n",
    "\n",
    "import time\n",
    "import datetime\n",
    "import pycountry\n",
    "\n",
    "import matplotlib.pyplot as plt\n",
    "import matplotlib.ticker as ticker\n",
    "import seaborn as sns"
   ]
  },
  {
   "cell_type": "markdown",
   "metadata": {},
   "source": [
    "### Importing my Functions"
   ]
  },
  {
   "cell_type": "code",
   "execution_count": 2,
   "metadata": {},
   "outputs": [],
   "source": [
    "from coffee_functions import process_files, clean_and_prepare_dataframe"
   ]
  },
  {
   "cell_type": "markdown",
   "metadata": {},
   "source": [
    "### Source"
   ]
  },
  {
   "cell_type": "markdown",
   "metadata": {},
   "source": [
    "#### UN ComTrade Database: Coffee"
   ]
  },
  {
   "cell_type": "markdown",
   "metadata": {},
   "source": [
    "As the main objective of this analysis is to explore the current dynamics of the coffee industry, I will examine supply, demand, and trade trends from 2017 to mid-2024. The analysis will focus on the top three coffee producers and exporters, Brazil, Vietnam, and Colombia, aiming to uncover opportunities and provide strategic insights into the market.\n",
    "\n",
    "To achieve this, I extracted data from the [UN ComTrade Database](https://comtradeplus.un.org/), the global trade data platform from the [United Nations](https://www.un.org/). I selected the target countries and exported data related to coffee exports.\n",
    "\n",
    "**Datasets:**\n",
    "1. Brazil Trade from 2017-2024\n",
    "2. Vietnam Trade from 2017-2022\n",
    "3. Colombia Trade from 2017-2024\n",
    "\n",
    "**Metadata**\n",
    "    - [DataDictionary](datasets\\UN_Comtrade_Exports_Database\\DataDictionary.csv)"
   ]
  },
  {
   "cell_type": "markdown",
   "metadata": {},
   "source": [
    "### Load the Data"
   ]
  },
  {
   "cell_type": "markdown",
   "metadata": {},
   "source": [
    "#### Colombia Trade: 2017-2024"
   ]
  },
  {
   "cell_type": "code",
   "execution_count": 20,
   "metadata": {},
   "outputs": [
    {
     "name": "stdout",
     "output_type": "stream",
     "text": [
      "File not found: source\\datasets\\UN_Comtrade_Exports_Coffee\\Top_Exporters\\ImportsExports_Coffee_2017.csv\n",
      "File not found: source\\datasets\\UN_Comtrade_Exports_Coffee\\Top_Exporters\\ImportsExports_Coffee_2018.csv\n",
      "File not found: source\\datasets\\UN_Comtrade_Exports_Coffee\\Top_Exporters\\ImportsExports_Coffee_2019.csv\n",
      "File not found: source\\datasets\\UN_Comtrade_Exports_Coffee\\Top_Exporters\\ImportsExports_Coffee_2020.csv\n",
      "File not found: source\\datasets\\UN_Comtrade_Exports_Coffee\\Top_Exporters\\ImportsExports_Coffee_2021.csv\n",
      "File not found: source\\datasets\\UN_Comtrade_Exports_Coffee\\Top_Exporters\\ImportsExports_Coffee_2022.csv\n",
      "File not found: source\\datasets\\UN_Comtrade_Exports_Coffee\\Top_Exporters\\ImportsExports_Coffee_2023.csv\n",
      "File not found: source\\datasets\\UN_Comtrade_Exports_Coffee\\Top_Exporters\\ImportsExports_Coffee_2024.csv\n",
      "No files were processed.\n"
     ]
    },
    {
     "data": {
      "text/plain": [
       "(0, 0)"
      ]
     },
     "execution_count": 20,
     "metadata": {},
     "output_type": "execute_result"
    }
   ],
   "source": [
    "exporters_trade_raw = process_files(r\"source\\datasets\\UN_Comtrade_Exports_Coffee\\Top_Exporters\", \"ImportsExports_Coffee\", (2017, 2024))\n",
    "exporters_trade_raw.shape"
   ]
  },
  {
   "cell_type": "code",
   "execution_count": 4,
   "metadata": {},
   "outputs": [
    {
     "data": {
      "text/html": [
       "<div>\n",
       "<style scoped>\n",
       "    .dataframe tbody tr th:only-of-type {\n",
       "        vertical-align: middle;\n",
       "    }\n",
       "\n",
       "    .dataframe tbody tr th {\n",
       "        vertical-align: top;\n",
       "    }\n",
       "\n",
       "    .dataframe thead th {\n",
       "        text-align: right;\n",
       "    }\n",
       "</style>\n",
       "<table border=\"1\" class=\"dataframe\">\n",
       "  <thead>\n",
       "    <tr style=\"text-align: right;\">\n",
       "      <th></th>\n",
       "      <th>TypeCode</th>\n",
       "      <th>FreqCode</th>\n",
       "      <th>RefPeriodId</th>\n",
       "      <th>RefYear</th>\n",
       "      <th>RefMonth</th>\n",
       "      <th>Period</th>\n",
       "      <th>ReporterCode</th>\n",
       "      <th>ReporterISO</th>\n",
       "      <th>ReporterDesc</th>\n",
       "      <th>FlowCode</th>\n",
       "      <th>FlowDesc</th>\n",
       "      <th>PartnerCode</th>\n",
       "      <th>PartnerISO</th>\n",
       "      <th>PartnerDesc</th>\n",
       "      <th>Partner2Code</th>\n",
       "      <th>Partner2ISO</th>\n",
       "      <th>Partner2Desc</th>\n",
       "      <th>ClassificationCode</th>\n",
       "      <th>ClassificationSearchCode</th>\n",
       "      <th>IsOriginalClassification</th>\n",
       "      <th>CmdCode</th>\n",
       "      <th>CmdDesc</th>\n",
       "      <th>AggrLevel</th>\n",
       "      <th>IsLeaf</th>\n",
       "      <th>CustomsCode</th>\n",
       "      <th>CustomsDesc</th>\n",
       "      <th>MosCode</th>\n",
       "      <th>MotCode</th>\n",
       "      <th>MotDesc</th>\n",
       "      <th>QtyUnitCode</th>\n",
       "      <th>QtyUnitAbbr</th>\n",
       "      <th>Qty</th>\n",
       "      <th>IsQtyEstimated</th>\n",
       "      <th>AltQtyUnitCode</th>\n",
       "      <th>AltQtyUnitAbbr</th>\n",
       "      <th>AltQty</th>\n",
       "      <th>IsAltQtyEstimated</th>\n",
       "      <th>NetWgt</th>\n",
       "      <th>IsNetWgtEstimated</th>\n",
       "      <th>GrossWgt</th>\n",
       "      <th>IsGrossWgtEstimated</th>\n",
       "      <th>Cifvalue</th>\n",
       "      <th>Fobvalue</th>\n",
       "      <th>PrimaryValue</th>\n",
       "      <th>LegacyEstimationFlag</th>\n",
       "      <th>IsReported</th>\n",
       "      <th>IsAggregate</th>\n",
       "      <th>Unnamed: 47</th>\n",
       "    </tr>\n",
       "  </thead>\n",
       "  <tbody>\n",
       "    <tr>\n",
       "      <th>0</th>\n",
       "      <td>C</td>\n",
       "      <td>M</td>\n",
       "      <td>20170101</td>\n",
       "      <td>2017</td>\n",
       "      <td>1</td>\n",
       "      <td>201701</td>\n",
       "      <td>170</td>\n",
       "      <td>COL</td>\n",
       "      <td>Colombia</td>\n",
       "      <td>X</td>\n",
       "      <td>Export</td>\n",
       "      <td>899</td>\n",
       "      <td>_X</td>\n",
       "      <td>Areas, nes</td>\n",
       "      <td>0</td>\n",
       "      <td>W00</td>\n",
       "      <td>World</td>\n",
       "      <td>H5</td>\n",
       "      <td>HS</td>\n",
       "      <td>True</td>\n",
       "      <td>90121</td>\n",
       "      <td>Coffee; roasted, not decaffeinated</td>\n",
       "      <td>6</td>\n",
       "      <td>True</td>\n",
       "      <td>C00</td>\n",
       "      <td>TOTAL CPC</td>\n",
       "      <td>0</td>\n",
       "      <td>0</td>\n",
       "      <td>TOTAL MOT</td>\n",
       "      <td>8</td>\n",
       "      <td>kg</td>\n",
       "      <td>1484.84</td>\n",
       "      <td>False</td>\n",
       "      <td>8</td>\n",
       "      <td>kg</td>\n",
       "      <td>1484.84</td>\n",
       "      <td>False</td>\n",
       "      <td>1484.84</td>\n",
       "      <td>False</td>\n",
       "      <td>0</td>\n",
       "      <td>False</td>\n",
       "      <td>0.0</td>\n",
       "      <td>24999.57</td>\n",
       "      <td>24999.57</td>\n",
       "      <td>0</td>\n",
       "      <td>False</td>\n",
       "      <td>True</td>\n",
       "      <td>NaN</td>\n",
       "    </tr>\n",
       "    <tr>\n",
       "      <th>1</th>\n",
       "      <td>C</td>\n",
       "      <td>M</td>\n",
       "      <td>20170101</td>\n",
       "      <td>2017</td>\n",
       "      <td>1</td>\n",
       "      <td>201701</td>\n",
       "      <td>170</td>\n",
       "      <td>COL</td>\n",
       "      <td>Colombia</td>\n",
       "      <td>X</td>\n",
       "      <td>Export</td>\n",
       "      <td>32</td>\n",
       "      <td>ARG</td>\n",
       "      <td>Argentina</td>\n",
       "      <td>0</td>\n",
       "      <td>W00</td>\n",
       "      <td>World</td>\n",
       "      <td>H5</td>\n",
       "      <td>HS</td>\n",
       "      <td>True</td>\n",
       "      <td>90111</td>\n",
       "      <td>Coffee; not roasted or decaffeinated</td>\n",
       "      <td>6</td>\n",
       "      <td>True</td>\n",
       "      <td>C00</td>\n",
       "      <td>TOTAL CPC</td>\n",
       "      <td>0</td>\n",
       "      <td>0</td>\n",
       "      <td>TOTAL MOT</td>\n",
       "      <td>8</td>\n",
       "      <td>kg</td>\n",
       "      <td>98202.00</td>\n",
       "      <td>False</td>\n",
       "      <td>8</td>\n",
       "      <td>kg</td>\n",
       "      <td>98202.00</td>\n",
       "      <td>False</td>\n",
       "      <td>98202.00</td>\n",
       "      <td>False</td>\n",
       "      <td>0</td>\n",
       "      <td>False</td>\n",
       "      <td>0.0</td>\n",
       "      <td>393184.36</td>\n",
       "      <td>393184.36</td>\n",
       "      <td>0</td>\n",
       "      <td>False</td>\n",
       "      <td>True</td>\n",
       "      <td>NaN</td>\n",
       "    </tr>\n",
       "    <tr>\n",
       "      <th>2</th>\n",
       "      <td>C</td>\n",
       "      <td>M</td>\n",
       "      <td>20170101</td>\n",
       "      <td>2017</td>\n",
       "      <td>1</td>\n",
       "      <td>201701</td>\n",
       "      <td>170</td>\n",
       "      <td>COL</td>\n",
       "      <td>Colombia</td>\n",
       "      <td>X</td>\n",
       "      <td>Export</td>\n",
       "      <td>533</td>\n",
       "      <td>ABW</td>\n",
       "      <td>Aruba</td>\n",
       "      <td>0</td>\n",
       "      <td>W00</td>\n",
       "      <td>World</td>\n",
       "      <td>H5</td>\n",
       "      <td>HS</td>\n",
       "      <td>True</td>\n",
       "      <td>90121</td>\n",
       "      <td>Coffee; roasted, not decaffeinated</td>\n",
       "      <td>6</td>\n",
       "      <td>True</td>\n",
       "      <td>C00</td>\n",
       "      <td>TOTAL CPC</td>\n",
       "      <td>0</td>\n",
       "      <td>0</td>\n",
       "      <td>TOTAL MOT</td>\n",
       "      <td>8</td>\n",
       "      <td>kg</td>\n",
       "      <td>525.00</td>\n",
       "      <td>False</td>\n",
       "      <td>8</td>\n",
       "      <td>kg</td>\n",
       "      <td>525.00</td>\n",
       "      <td>False</td>\n",
       "      <td>525.00</td>\n",
       "      <td>False</td>\n",
       "      <td>0</td>\n",
       "      <td>False</td>\n",
       "      <td>0.0</td>\n",
       "      <td>4481.00</td>\n",
       "      <td>4481.00</td>\n",
       "      <td>0</td>\n",
       "      <td>False</td>\n",
       "      <td>True</td>\n",
       "      <td>NaN</td>\n",
       "    </tr>\n",
       "    <tr>\n",
       "      <th>3</th>\n",
       "      <td>C</td>\n",
       "      <td>M</td>\n",
       "      <td>20170101</td>\n",
       "      <td>2017</td>\n",
       "      <td>1</td>\n",
       "      <td>201701</td>\n",
       "      <td>170</td>\n",
       "      <td>COL</td>\n",
       "      <td>Colombia</td>\n",
       "      <td>X</td>\n",
       "      <td>Export</td>\n",
       "      <td>36</td>\n",
       "      <td>AUS</td>\n",
       "      <td>Australia</td>\n",
       "      <td>0</td>\n",
       "      <td>W00</td>\n",
       "      <td>World</td>\n",
       "      <td>H5</td>\n",
       "      <td>HS</td>\n",
       "      <td>True</td>\n",
       "      <td>90111</td>\n",
       "      <td>Coffee; not roasted or decaffeinated</td>\n",
       "      <td>6</td>\n",
       "      <td>True</td>\n",
       "      <td>C00</td>\n",
       "      <td>TOTAL CPC</td>\n",
       "      <td>0</td>\n",
       "      <td>0</td>\n",
       "      <td>TOTAL MOT</td>\n",
       "      <td>8</td>\n",
       "      <td>kg</td>\n",
       "      <td>621420.00</td>\n",
       "      <td>False</td>\n",
       "      <td>8</td>\n",
       "      <td>kg</td>\n",
       "      <td>621420.00</td>\n",
       "      <td>False</td>\n",
       "      <td>621420.00</td>\n",
       "      <td>False</td>\n",
       "      <td>0</td>\n",
       "      <td>False</td>\n",
       "      <td>0.0</td>\n",
       "      <td>2443180.34</td>\n",
       "      <td>2443180.34</td>\n",
       "      <td>0</td>\n",
       "      <td>False</td>\n",
       "      <td>True</td>\n",
       "      <td>NaN</td>\n",
       "    </tr>\n",
       "    <tr>\n",
       "      <th>4</th>\n",
       "      <td>C</td>\n",
       "      <td>M</td>\n",
       "      <td>20170101</td>\n",
       "      <td>2017</td>\n",
       "      <td>1</td>\n",
       "      <td>201701</td>\n",
       "      <td>170</td>\n",
       "      <td>COL</td>\n",
       "      <td>Colombia</td>\n",
       "      <td>X</td>\n",
       "      <td>Export</td>\n",
       "      <td>56</td>\n",
       "      <td>BEL</td>\n",
       "      <td>Belgium</td>\n",
       "      <td>0</td>\n",
       "      <td>W00</td>\n",
       "      <td>World</td>\n",
       "      <td>H5</td>\n",
       "      <td>HS</td>\n",
       "      <td>True</td>\n",
       "      <td>90111</td>\n",
       "      <td>Coffee; not roasted or decaffeinated</td>\n",
       "      <td>6</td>\n",
       "      <td>True</td>\n",
       "      <td>C00</td>\n",
       "      <td>TOTAL CPC</td>\n",
       "      <td>0</td>\n",
       "      <td>0</td>\n",
       "      <td>TOTAL MOT</td>\n",
       "      <td>8</td>\n",
       "      <td>kg</td>\n",
       "      <td>2452090.00</td>\n",
       "      <td>False</td>\n",
       "      <td>8</td>\n",
       "      <td>kg</td>\n",
       "      <td>2452090.00</td>\n",
       "      <td>False</td>\n",
       "      <td>2452090.00</td>\n",
       "      <td>False</td>\n",
       "      <td>0</td>\n",
       "      <td>False</td>\n",
       "      <td>0.0</td>\n",
       "      <td>9986220.53</td>\n",
       "      <td>9986220.53</td>\n",
       "      <td>0</td>\n",
       "      <td>False</td>\n",
       "      <td>True</td>\n",
       "      <td>NaN</td>\n",
       "    </tr>\n",
       "  </tbody>\n",
       "</table>\n",
       "</div>"
      ],
      "text/plain": [
       "  TypeCode FreqCode  RefPeriodId  RefYear  RefMonth  Period  ReporterCode  \\\n",
       "0        C        M     20170101     2017         1  201701           170   \n",
       "1        C        M     20170101     2017         1  201701           170   \n",
       "2        C        M     20170101     2017         1  201701           170   \n",
       "3        C        M     20170101     2017         1  201701           170   \n",
       "4        C        M     20170101     2017         1  201701           170   \n",
       "\n",
       "  ReporterISO ReporterDesc FlowCode FlowDesc  PartnerCode PartnerISO  \\\n",
       "0         COL     Colombia        X   Export          899        _X    \n",
       "1         COL     Colombia        X   Export           32        ARG   \n",
       "2         COL     Colombia        X   Export          533        ABW   \n",
       "3         COL     Colombia        X   Export           36        AUS   \n",
       "4         COL     Colombia        X   Export           56        BEL   \n",
       "\n",
       "  PartnerDesc  Partner2Code Partner2ISO Partner2Desc ClassificationCode  \\\n",
       "0  Areas, nes             0         W00        World                 H5   \n",
       "1   Argentina             0         W00        World                 H5   \n",
       "2       Aruba             0         W00        World                 H5   \n",
       "3   Australia             0         W00        World                 H5   \n",
       "4     Belgium             0         W00        World                 H5   \n",
       "\n",
       "  ClassificationSearchCode  IsOriginalClassification  CmdCode  \\\n",
       "0                       HS                      True    90121   \n",
       "1                       HS                      True    90111   \n",
       "2                       HS                      True    90121   \n",
       "3                       HS                      True    90111   \n",
       "4                       HS                      True    90111   \n",
       "\n",
       "                                CmdDesc  AggrLevel  IsLeaf CustomsCode  \\\n",
       "0    Coffee; roasted, not decaffeinated          6    True         C00   \n",
       "1  Coffee; not roasted or decaffeinated          6    True         C00   \n",
       "2    Coffee; roasted, not decaffeinated          6    True         C00   \n",
       "3  Coffee; not roasted or decaffeinated          6    True         C00   \n",
       "4  Coffee; not roasted or decaffeinated          6    True         C00   \n",
       "\n",
       "  CustomsDesc  MosCode  MotCode    MotDesc  QtyUnitCode QtyUnitAbbr  \\\n",
       "0   TOTAL CPC        0        0  TOTAL MOT            8          kg   \n",
       "1   TOTAL CPC        0        0  TOTAL MOT            8          kg   \n",
       "2   TOTAL CPC        0        0  TOTAL MOT            8          kg   \n",
       "3   TOTAL CPC        0        0  TOTAL MOT            8          kg   \n",
       "4   TOTAL CPC        0        0  TOTAL MOT            8          kg   \n",
       "\n",
       "          Qty  IsQtyEstimated  AltQtyUnitCode AltQtyUnitAbbr      AltQty  \\\n",
       "0     1484.84           False               8             kg     1484.84   \n",
       "1    98202.00           False               8             kg    98202.00   \n",
       "2      525.00           False               8             kg      525.00   \n",
       "3   621420.00           False               8             kg   621420.00   \n",
       "4  2452090.00           False               8             kg  2452090.00   \n",
       "\n",
       "   IsAltQtyEstimated      NetWgt  IsNetWgtEstimated  GrossWgt  \\\n",
       "0              False     1484.84              False         0   \n",
       "1              False    98202.00              False         0   \n",
       "2              False      525.00              False         0   \n",
       "3              False   621420.00              False         0   \n",
       "4              False  2452090.00              False         0   \n",
       "\n",
       "   IsGrossWgtEstimated  Cifvalue    Fobvalue  PrimaryValue  \\\n",
       "0                False       0.0    24999.57      24999.57   \n",
       "1                False       0.0   393184.36     393184.36   \n",
       "2                False       0.0     4481.00       4481.00   \n",
       "3                False       0.0  2443180.34    2443180.34   \n",
       "4                False       0.0  9986220.53    9986220.53   \n",
       "\n",
       "   LegacyEstimationFlag  IsReported  IsAggregate  Unnamed: 47  \n",
       "0                     0       False         True          NaN  \n",
       "1                     0       False         True          NaN  \n",
       "2                     0       False         True          NaN  \n",
       "3                     0       False         True          NaN  \n",
       "4                     0       False         True          NaN  "
      ]
     },
     "execution_count": 4,
     "metadata": {},
     "output_type": "execute_result"
    }
   ],
   "source": [
    "exporters_trade_raw.head()"
   ]
  },
  {
   "cell_type": "markdown",
   "metadata": {},
   "source": [
    "### Data Profiling"
   ]
  },
  {
   "cell_type": "code",
   "execution_count": 7,
   "metadata": {},
   "outputs": [],
   "source": [
    "# These the columns with constant data\n",
    "coffee_constant_columns = ['TypeCode', 'FreqCode', 'ReporterCode', 'FlowCode', 'Partner2Code', 'Partner2ISO', 'Partner2Desc', 'ClassificationCode', 'ClassificationSearchCode', 'IsOriginalClassification', 'AggrLevel', 'IsLeaf', 'CustomsCode', 'CustomsDesc', 'MosCode', 'MotCode', 'MotDesc', 'QtyUnitCode', 'QtyUnitAbbr', 'IsQtyEstimated', 'AltQtyUnitCode', 'AltQtyUnitAbbr', 'IsAltQtyEstimated', 'IsNetWgtEstimated', 'GrossWgt', 'IsGrossWgtEstimated', 'LegacyEstimationFlag', 'IsReported', 'IsAggregate']\n",
    "# These highly correlated columns are similar (differing only in the level of detail) or identical to other columns.\n",
    "coffee_high_correlated_columns = ['Fobvalue', 'RefPeriodId', 'PartnerCode', 'AltQty', 'NetWgt']\n",
    "# These have a large porcentage of missing values or is an unsupported column\n",
    "coffee_missing_values_columns = ['Cifvalue', 'Unnamed: 47']\n",
    "# Coffee exports data columns to drop from dataframe\n",
    "coffee_columns_to_drop = coffee_constant_columns + coffee_high_correlated_columns + coffee_missing_values_columns "
   ]
  },
  {
   "cell_type": "markdown",
   "metadata": {},
   "source": [
    "## 3. Data Wrangling"
   ]
  },
  {
   "cell_type": "markdown",
   "metadata": {},
   "source": [
    "### Data Cleaning"
   ]
  },
  {
   "cell_type": "code",
   "execution_count": 8,
   "metadata": {},
   "outputs": [
    {
     "data": {
      "text/plain": [
       "(8510, 12)"
      ]
     },
     "execution_count": 8,
     "metadata": {},
     "output_type": "execute_result"
    }
   ],
   "source": [
    "# Basic Cleaning \n",
    "exporters_trade = clean_and_prepare_dataframe(exporters_trade_raw, coffee_columns_to_drop)\n",
    "exporters_trade.shape"
   ]
  },
  {
   "cell_type": "code",
   "execution_count": 9,
   "metadata": {},
   "outputs": [
    {
     "data": {
      "text/html": [
       "<div>\n",
       "<style scoped>\n",
       "    .dataframe tbody tr th:only-of-type {\n",
       "        vertical-align: middle;\n",
       "    }\n",
       "\n",
       "    .dataframe tbody tr th {\n",
       "        vertical-align: top;\n",
       "    }\n",
       "\n",
       "    .dataframe thead th {\n",
       "        text-align: right;\n",
       "    }\n",
       "</style>\n",
       "<table border=\"1\" class=\"dataframe\">\n",
       "  <thead>\n",
       "    <tr style=\"text-align: right;\">\n",
       "      <th></th>\n",
       "      <th>Year</th>\n",
       "      <th>Month</th>\n",
       "      <th>Period</th>\n",
       "      <th>ReporterISO</th>\n",
       "      <th>ReporterDesc</th>\n",
       "      <th>FlowDesc</th>\n",
       "      <th>PartnerISO</th>\n",
       "      <th>PartnerDesc</th>\n",
       "      <th>CmdCode</th>\n",
       "      <th>CmdDesc</th>\n",
       "      <th>Qty_in_kg</th>\n",
       "      <th>PrimaryValue</th>\n",
       "    </tr>\n",
       "  </thead>\n",
       "  <tbody>\n",
       "    <tr>\n",
       "      <th>0</th>\n",
       "      <td>2017</td>\n",
       "      <td>1</td>\n",
       "      <td>201701</td>\n",
       "      <td>COL</td>\n",
       "      <td>Colombia</td>\n",
       "      <td>Export</td>\n",
       "      <td>_X</td>\n",
       "      <td>Areas, nes</td>\n",
       "      <td>90121</td>\n",
       "      <td>Coffee; roasted, not decaffeinated</td>\n",
       "      <td>1484.84</td>\n",
       "      <td>24999.57</td>\n",
       "    </tr>\n",
       "    <tr>\n",
       "      <th>1</th>\n",
       "      <td>2017</td>\n",
       "      <td>1</td>\n",
       "      <td>201701</td>\n",
       "      <td>COL</td>\n",
       "      <td>Colombia</td>\n",
       "      <td>Export</td>\n",
       "      <td>ARG</td>\n",
       "      <td>Argentina</td>\n",
       "      <td>90111</td>\n",
       "      <td>Coffee; not roasted or decaffeinated</td>\n",
       "      <td>98202.00</td>\n",
       "      <td>393184.36</td>\n",
       "    </tr>\n",
       "    <tr>\n",
       "      <th>2</th>\n",
       "      <td>2017</td>\n",
       "      <td>1</td>\n",
       "      <td>201701</td>\n",
       "      <td>COL</td>\n",
       "      <td>Colombia</td>\n",
       "      <td>Export</td>\n",
       "      <td>ABW</td>\n",
       "      <td>Aruba</td>\n",
       "      <td>90121</td>\n",
       "      <td>Coffee; roasted, not decaffeinated</td>\n",
       "      <td>525.00</td>\n",
       "      <td>4481.00</td>\n",
       "    </tr>\n",
       "    <tr>\n",
       "      <th>3</th>\n",
       "      <td>2017</td>\n",
       "      <td>1</td>\n",
       "      <td>201701</td>\n",
       "      <td>COL</td>\n",
       "      <td>Colombia</td>\n",
       "      <td>Export</td>\n",
       "      <td>AUS</td>\n",
       "      <td>Australia</td>\n",
       "      <td>90111</td>\n",
       "      <td>Coffee; not roasted or decaffeinated</td>\n",
       "      <td>621420.00</td>\n",
       "      <td>2443180.34</td>\n",
       "    </tr>\n",
       "    <tr>\n",
       "      <th>4</th>\n",
       "      <td>2017</td>\n",
       "      <td>1</td>\n",
       "      <td>201701</td>\n",
       "      <td>COL</td>\n",
       "      <td>Colombia</td>\n",
       "      <td>Export</td>\n",
       "      <td>BEL</td>\n",
       "      <td>Belgium</td>\n",
       "      <td>90111</td>\n",
       "      <td>Coffee; not roasted or decaffeinated</td>\n",
       "      <td>2452090.00</td>\n",
       "      <td>9986220.53</td>\n",
       "    </tr>\n",
       "  </tbody>\n",
       "</table>\n",
       "</div>"
      ],
      "text/plain": [
       "   Year  Month  Period ReporterISO ReporterDesc FlowDesc PartnerISO  \\\n",
       "0  2017      1  201701         COL     Colombia   Export        _X    \n",
       "1  2017      1  201701         COL     Colombia   Export        ARG   \n",
       "2  2017      1  201701         COL     Colombia   Export        ABW   \n",
       "3  2017      1  201701         COL     Colombia   Export        AUS   \n",
       "4  2017      1  201701         COL     Colombia   Export        BEL   \n",
       "\n",
       "  PartnerDesc  CmdCode                               CmdDesc   Qty_in_kg  \\\n",
       "0  Areas, nes    90121    Coffee; roasted, not decaffeinated     1484.84   \n",
       "1   Argentina    90111  Coffee; not roasted or decaffeinated    98202.00   \n",
       "2       Aruba    90121    Coffee; roasted, not decaffeinated      525.00   \n",
       "3   Australia    90111  Coffee; not roasted or decaffeinated   621420.00   \n",
       "4     Belgium    90111  Coffee; not roasted or decaffeinated  2452090.00   \n",
       "\n",
       "   PrimaryValue  \n",
       "0      24999.57  \n",
       "1     393184.36  \n",
       "2       4481.00  \n",
       "3    2443180.34  \n",
       "4    9986220.53  "
      ]
     },
     "execution_count": 9,
     "metadata": {},
     "output_type": "execute_result"
    }
   ],
   "source": [
    "exporters_trade.head()"
   ]
  },
  {
   "cell_type": "markdown",
   "metadata": {},
   "source": [
    "#### Missing data (Null values)"
   ]
  },
  {
   "cell_type": "code",
   "execution_count": 10,
   "metadata": {},
   "outputs": [
    {
     "data": {
      "text/plain": [
       "Year            0\n",
       "Month           0\n",
       "Period          0\n",
       "ReporterISO     0\n",
       "ReporterDesc    0\n",
       "FlowDesc        0\n",
       "PartnerISO      0\n",
       "PartnerDesc     0\n",
       "CmdCode         0\n",
       "CmdDesc         0\n",
       "Qty_in_kg       0\n",
       "PrimaryValue    0\n",
       "dtype: int64"
      ]
     },
     "execution_count": 10,
     "metadata": {},
     "output_type": "execute_result"
    }
   ],
   "source": [
    "# Checking for missing data\n",
    "exporters_trade.isnull().sum().sort_values(ascending=False)"
   ]
  },
  {
   "cell_type": "markdown",
   "metadata": {},
   "source": [
    "## Exploratory Data Analysis"
   ]
  },
  {
   "cell_type": "code",
   "execution_count": 11,
   "metadata": {},
   "outputs": [
    {
     "data": {
      "text/plain": [
       "Index(['Year', 'Month', 'Period', 'ReporterISO', 'ReporterDesc', 'FlowDesc',\n",
       "       'PartnerISO', 'PartnerDesc', 'CmdCode', 'CmdDesc', 'Qty_in_kg',\n",
       "       'PrimaryValue'],\n",
       "      dtype='object')"
      ]
     },
     "execution_count": 11,
     "metadata": {},
     "output_type": "execute_result"
    }
   ],
   "source": [
    "exporters_trade.columns"
   ]
  },
  {
   "cell_type": "markdown",
   "metadata": {},
   "source": [
    "### Univariable Analysis"
   ]
  },
  {
   "cell_type": "markdown",
   "metadata": {},
   "source": [
    "#### Year"
   ]
  },
  {
   "cell_type": "code",
   "execution_count": 12,
   "metadata": {},
   "outputs": [
    {
     "data": {
      "text/plain": [
       "8"
      ]
     },
     "execution_count": 12,
     "metadata": {},
     "output_type": "execute_result"
    }
   ],
   "source": [
    "exporters_trade['Year'].nunique() # 8 years of data, from 2017 up to 2024"
   ]
  },
  {
   "cell_type": "code",
   "execution_count": 13,
   "metadata": {},
   "outputs": [
    {
     "data": {
      "text/plain": [
       "array([2017, 2018, 2019, 2020, 2021, 2022, 2023, 2024], dtype=int64)"
      ]
     },
     "execution_count": 13,
     "metadata": {},
     "output_type": "execute_result"
    }
   ],
   "source": [
    "exporters_trade['Year'].unique() # All years are included"
   ]
  },
  {
   "cell_type": "markdown",
   "metadata": {},
   "source": [
    "#### Month"
   ]
  },
  {
   "cell_type": "code",
   "execution_count": 14,
   "metadata": {},
   "outputs": [
    {
     "data": {
      "text/plain": [
       "12"
      ]
     },
     "execution_count": 14,
     "metadata": {},
     "output_type": "execute_result"
    }
   ],
   "source": [
    "exporters_trade['Month'].nunique() # 12 months per each year"
   ]
  },
  {
   "cell_type": "code",
   "execution_count": 15,
   "metadata": {},
   "outputs": [
    {
     "data": {
      "text/plain": [
       "array([ 1,  2,  3,  4,  5,  6,  7,  8,  9, 10, 11, 12], dtype=int64)"
      ]
     },
     "execution_count": 15,
     "metadata": {},
     "output_type": "execute_result"
    }
   ],
   "source": [
    "exporters_trade['Month'].unique() # All months are included"
   ]
  },
  {
   "cell_type": "markdown",
   "metadata": {},
   "source": [
    "#### Period"
   ]
  },
  {
   "cell_type": "code",
   "execution_count": 16,
   "metadata": {},
   "outputs": [
    {
     "data": {
      "text/plain": [
       "86"
      ]
     },
     "execution_count": 16,
     "metadata": {},
     "output_type": "execute_result"
    }
   ],
   "source": [
    "exporters_trade['Period'].nunique() # Combination of Year and Month\n",
    "# Expected output of 91-92 (84 full years plus 7 or 8 up to Jul-Aug 2024), missing 5 periods (from Mar 2024)"
   ]
  },
  {
   "cell_type": "code",
   "execution_count": 17,
   "metadata": {},
   "outputs": [
    {
     "data": {
      "text/plain": [
       "array([201701, 201702, 201703, 201704, 201705, 201706, 201707, 201708,\n",
       "       201709, 201710, 201711, 201712, 201801, 201802, 201803, 201804,\n",
       "       201805, 201806, 201807, 201808, 201809, 201810, 201811, 201812,\n",
       "       201901, 201902, 201903, 201904, 201905, 201906, 201907, 201908,\n",
       "       201909, 201910, 201911, 201912, 202001, 202002, 202003, 202004,\n",
       "       202005, 202006, 202007, 202008, 202009, 202010, 202011, 202012,\n",
       "       202101, 202102, 202103, 202104, 202105, 202106, 202107, 202108,\n",
       "       202109, 202110, 202111, 202112, 202201, 202202, 202203, 202204,\n",
       "       202205, 202206, 202207, 202208, 202209, 202210, 202211, 202212,\n",
       "       202301, 202302, 202303, 202304, 202305, 202306, 202307, 202308,\n",
       "       202309, 202310, 202311, 202312, 202401, 202402], dtype=int64)"
      ]
     },
     "execution_count": 17,
     "metadata": {},
     "output_type": "execute_result"
    }
   ],
   "source": [
    "exporters_trade['Period'].unique()\n",
    "# Data from Jan 2017 up to Feb 2024, missing last 5 months"
   ]
  },
  {
   "cell_type": "code",
   "execution_count": 57,
   "metadata": {},
   "outputs": [],
   "source": [
    "#TODO\n",
    "# Should I download again the files or should I take out 2 months of 2014?"
   ]
  },
  {
   "cell_type": "markdown",
   "metadata": {},
   "source": [
    "#### ReporterISO"
   ]
  },
  {
   "cell_type": "code",
   "execution_count": 18,
   "metadata": {},
   "outputs": [
    {
     "data": {
      "text/plain": [
       "1"
      ]
     },
     "execution_count": 18,
     "metadata": {},
     "output_type": "execute_result"
    }
   ],
   "source": [
    "exporters_trade['ReporterISO'].nunique() # Only one code for now, as this dataset is just only Colombia market"
   ]
  },
  {
   "cell_type": "code",
   "execution_count": 59,
   "metadata": {},
   "outputs": [
    {
     "data": {
      "text/plain": [
       "array(['COL'], dtype=object)"
      ]
     },
     "execution_count": 59,
     "metadata": {},
     "output_type": "execute_result"
    }
   ],
   "source": [
    "colombia_trade['ReporterISO'].unique() # Only one code for now, as this dataset is just only Colombia market"
   ]
  },
  {
   "cell_type": "markdown",
   "metadata": {},
   "source": [
    "#### ReporterDesc"
   ]
  },
  {
   "cell_type": "code",
   "execution_count": 60,
   "metadata": {},
   "outputs": [
    {
     "data": {
      "text/plain": [
       "1"
      ]
     },
     "execution_count": 60,
     "metadata": {},
     "output_type": "execute_result"
    }
   ],
   "source": [
    "colombia_trade['ReporterDesc'].nunique() # Expected output: 1 as this dataset is just Colombia market"
   ]
  },
  {
   "cell_type": "code",
   "execution_count": 61,
   "metadata": {},
   "outputs": [
    {
     "data": {
      "text/plain": [
       "array(['Colombia'], dtype=object)"
      ]
     },
     "execution_count": 61,
     "metadata": {},
     "output_type": "execute_result"
    }
   ],
   "source": [
    "colombia_trade['ReporterDesc'].unique() # Expected output: Colombia "
   ]
  },
  {
   "cell_type": "markdown",
   "metadata": {},
   "source": [
    "#### FlowDesc"
   ]
  },
  {
   "cell_type": "code",
   "execution_count": 62,
   "metadata": {},
   "outputs": [
    {
     "data": {
      "text/plain": [
       "2"
      ]
     },
     "execution_count": 62,
     "metadata": {},
     "output_type": "execute_result"
    }
   ],
   "source": [
    "colombia_trade['FlowDesc'].nunique() # Expected number of types of trade (Exports and Imports)"
   ]
  },
  {
   "cell_type": "code",
   "execution_count": 63,
   "metadata": {},
   "outputs": [
    {
     "data": {
      "text/plain": [
       "array(['Export', 'Import'], dtype=object)"
      ]
     },
     "execution_count": 63,
     "metadata": {},
     "output_type": "execute_result"
    }
   ],
   "source": [
    "colombia_trade['FlowDesc'].unique() # Expected types of trade (Exports and Imports)"
   ]
  },
  {
   "cell_type": "markdown",
   "metadata": {},
   "source": [
    "#### PartnerISO"
   ]
  },
  {
   "cell_type": "code",
   "execution_count": 64,
   "metadata": {},
   "outputs": [
    {
     "data": {
      "text/plain": [
       "108"
      ]
     },
     "execution_count": 64,
     "metadata": {},
     "output_type": "execute_result"
    }
   ],
   "source": [
    "colombia_trade['PartnerISO'].nunique() # Number of countries that have traded with Colombia in those years\n",
    "# Count of ISO 3 letter country code for trade partners"
   ]
  },
  {
   "cell_type": "code",
   "execution_count": 65,
   "metadata": {},
   "outputs": [
    {
     "data": {
      "text/plain": [
       "array(['_X ', 'ARG', 'ABW', 'AUS', 'BEL', 'BOL', 'BRA', 'CAN', 'CHL',\n",
       "       'CHN', 'HKG', 'CRI', 'DNK', 'DOM', 'ECU', 'SLV', 'EST', 'FIN',\n",
       "       'FRA', 'DEU', 'GRC', 'IND', 'IRN', 'IRL', 'ISR', 'ITA', 'JPN',\n",
       "       'LBN', 'MYS', 'MEX', 'MAR', 'NLD', 'NZL', 'NOR', 'S19', 'PAN',\n",
       "       'PRY', 'PER', 'POL', 'PRT', 'KOR', 'ROU', 'RUS', 'SGP', 'ZAF',\n",
       "       'ESP', 'SWE', 'CHE', 'SYR', 'TUR', 'USA', 'ARE', 'GBR', 'URY',\n",
       "       'BHR', 'CUW', 'EGY', 'GEO', 'JAM', 'JOR', 'SVN', 'UKR', 'VEN',\n",
       "       'DZA', 'X2 ', 'NGA', 'SAU', 'SUR', 'MAC', 'CYP', 'ISL', 'ALB',\n",
       "       'KWT', 'LVA', 'TTO', 'GTM', 'IDN', 'AUT', 'HRV', 'HND', 'LTU',\n",
       "       'PHL', 'CUB', 'CZE', 'LBY', 'NIC', 'PYF', 'BGR', 'VNM', 'QAT',\n",
       "       'HUN', 'BGD', 'GUY', 'SWZ', 'TUN', 'OMN', 'SVK', 'THA', 'IRQ',\n",
       "       'MNG', 'BRB', 'KHM', 'CIV', 'KEN', 'MLT', 'PAK', 'KAZ', 'MUS'],\n",
       "      dtype=object)"
      ]
     },
     "execution_count": 65,
     "metadata": {},
     "output_type": "execute_result"
    }
   ],
   "source": [
    "colombia_trade['PartnerISO'].unique() # List of commercial partners (country ISO abbrevations of 3 letters)\n",
    "# Unexpected: '_X ', 'X2 ', 'S19'\n",
    "# TODO codes abbrevations match the ISO?"
   ]
  },
  {
   "cell_type": "markdown",
   "metadata": {},
   "source": [
    "#### PartnerDesc"
   ]
  },
  {
   "cell_type": "code",
   "execution_count": 66,
   "metadata": {},
   "outputs": [
    {
     "data": {
      "text/plain": [
       "108"
      ]
     },
     "execution_count": 66,
     "metadata": {},
     "output_type": "execute_result"
    }
   ],
   "source": [
    "colombia_trade['PartnerDesc'].nunique() # Number of countries that have traded with Colombia in those years"
   ]
  },
  {
   "cell_type": "code",
   "execution_count": 67,
   "metadata": {},
   "outputs": [
    {
     "data": {
      "text/plain": [
       "array(['Areas, nes', 'Argentina', 'Aruba', 'Australia', 'Belgium',\n",
       "       'Bolivia (Plurinational State of)', 'Brazil', 'Canada', 'Chile',\n",
       "       'China', 'China, Hong Kong SAR', 'Costa Rica', 'Denmark',\n",
       "       'Dominican Rep.', 'Ecuador', 'El Salvador', 'Estonia', 'Finland',\n",
       "       'France', 'Germany', 'Greece', 'India', 'Iran', 'Ireland',\n",
       "       'Israel', 'Italy', 'Japan', 'Lebanon', 'Malaysia', 'Mexico',\n",
       "       'Morocco', 'Netherlands', 'New Zealand', 'Norway',\n",
       "       'Other Asia, nes', 'Panama', 'Paraguay', 'Peru', 'Poland',\n",
       "       'Portugal', 'Rep. of Korea', 'Romania', 'Russian Federation',\n",
       "       'Singapore', 'South Africa', 'Spain', 'Sweden', 'Switzerland',\n",
       "       'Syria', 'Türkiye', 'USA', 'United Arab Emirates',\n",
       "       'United Kingdom', 'Uruguay', 'Bahrain', 'Curaçao', 'Egypt',\n",
       "       'Georgia', 'Jamaica', 'Jordan', 'Slovenia', 'Ukraine', 'Venezuela',\n",
       "       'Algeria', 'Free Zones', 'Nigeria', 'Saudi Arabia', 'Suriname',\n",
       "       'China, Macao SAR', 'Cyprus', 'Iceland', 'Albania', 'Kuwait',\n",
       "       'Latvia', 'Trinidad and Tobago', 'Guatemala', 'Indonesia',\n",
       "       'Austria', 'Croatia', 'Honduras', 'Lithuania', 'Philippines',\n",
       "       'Cuba', 'Czechia', 'Libya', 'Nicaragua', 'French Polynesia',\n",
       "       'Bulgaria', 'Viet Nam', 'Qatar', 'Hungary', 'Bangladesh', 'Guyana',\n",
       "       'Eswatini', 'Tunisia', 'Oman', 'Slovakia', 'Thailand', 'Iraq',\n",
       "       'Mongolia', 'Barbados', 'Cambodia', \"Côte d'Ivoire\", 'Kenya',\n",
       "       'Malta', 'Pakistan', 'Kazakhstan', 'Mauritius'], dtype=object)"
      ]
     },
     "execution_count": 67,
     "metadata": {},
     "output_type": "execute_result"
    }
   ],
   "source": [
    "colombia_trade['PartnerDesc'].unique() # List of commercial partners (country names)\n",
    "# Unexpected: 'Areas, nes' and 'Other Asia, nes'.\n",
    "# TODO to confirm official name:'China', 'China, Hong Kong SAR' and 'China, Macao SAR' are not duplicates?\n",
    "# TODO names convention match the ISO?"
   ]
  },
  {
   "cell_type": "markdown",
   "metadata": {},
   "source": [
    "#### CmdCode"
   ]
  },
  {
   "cell_type": "code",
   "execution_count": 68,
   "metadata": {},
   "outputs": [
    {
     "data": {
      "text/plain": [
       "4"
      ]
     },
     "execution_count": 68,
     "metadata": {},
     "output_type": "execute_result"
    }
   ],
   "source": [
    "colombia_trade['CmdCode'].nunique() # Expected output 4, for the commodities codes included in this report."
   ]
  },
  {
   "cell_type": "code",
   "execution_count": 69,
   "metadata": {},
   "outputs": [
    {
     "data": {
      "text/plain": [
       "array([90121, 90111, 90122, 90112], dtype=int64)"
      ]
     },
     "execution_count": 69,
     "metadata": {},
     "output_type": "execute_result"
    }
   ],
   "source": [
    "colombia_trade['CmdCode'].unique() # Expected commodities codes."
   ]
  },
  {
   "cell_type": "markdown",
   "metadata": {},
   "source": [
    "#### Qty_in_kg"
   ]
  },
  {
   "cell_type": "code",
   "execution_count": 70,
   "metadata": {},
   "outputs": [
    {
     "data": {
      "text/plain": [
       "7299"
      ]
     },
     "execution_count": 70,
     "metadata": {},
     "output_type": "execute_result"
    }
   ],
   "source": [
    "colombia_trade['Qty_in_kg'].nunique()"
   ]
  },
  {
   "cell_type": "code",
   "execution_count": 71,
   "metadata": {},
   "outputs": [
    {
     "data": {
      "text/plain": [
       "count    8.510000e+03\n",
       "mean     6.458959e+05\n",
       "std      2.651494e+06\n",
       "min      0.000000e+00\n",
       "25%      2.510343e+03\n",
       "50%      2.554350e+04\n",
       "75%      2.144054e+05\n",
       "max      4.160708e+07\n",
       "Name: Qty_in_kg, dtype: float64"
      ]
     },
     "execution_count": 71,
     "metadata": {},
     "output_type": "execute_result"
    }
   ],
   "source": [
    "colombia_trade['Qty_in_kg'].describe()"
   ]
  },
  {
   "cell_type": "code",
   "execution_count": 72,
   "metadata": {},
   "outputs": [
    {
     "data": {
      "text/plain": [
       "0.0"
      ]
     },
     "execution_count": 72,
     "metadata": {},
     "output_type": "execute_result"
    }
   ],
   "source": [
    "colombia_trade['Qty_in_kg'].min()"
   ]
  },
  {
   "cell_type": "code",
   "execution_count": 73,
   "metadata": {},
   "outputs": [
    {
     "data": {
      "text/plain": [
       "41607075.0"
      ]
     },
     "execution_count": 73,
     "metadata": {},
     "output_type": "execute_result"
    }
   ],
   "source": [
    "colombia_trade['Qty_in_kg'].max()"
   ]
  },
  {
   "cell_type": "markdown",
   "metadata": {},
   "source": [
    "#### PrimaryValue"
   ]
  },
  {
   "cell_type": "code",
   "execution_count": 74,
   "metadata": {},
   "outputs": [
    {
     "data": {
      "text/plain": [
       "8411"
      ]
     },
     "execution_count": 74,
     "metadata": {},
     "output_type": "execute_result"
    }
   ],
   "source": [
    "colombia_trade['PrimaryValue'].nunique()"
   ]
  },
  {
   "cell_type": "code",
   "execution_count": 75,
   "metadata": {},
   "outputs": [
    {
     "data": {
      "text/plain": [
       "count    8.510000e+03\n",
       "mean     2.559473e+06\n",
       "std      1.075701e+07\n",
       "min      4.000000e-01\n",
       "25%      2.316382e+04\n",
       "50%      1.322495e+05\n",
       "75%      8.858824e+05\n",
       "max      1.659228e+08\n",
       "Name: PrimaryValue, dtype: float64"
      ]
     },
     "execution_count": 75,
     "metadata": {},
     "output_type": "execute_result"
    }
   ],
   "source": [
    "colombia_trade['PrimaryValue'].describe()"
   ]
  },
  {
   "cell_type": "code",
   "execution_count": 76,
   "metadata": {},
   "outputs": [
    {
     "data": {
      "text/plain": [
       "0.4"
      ]
     },
     "execution_count": 76,
     "metadata": {},
     "output_type": "execute_result"
    }
   ],
   "source": [
    "colombia_trade['PrimaryValue'].min()"
   ]
  },
  {
   "cell_type": "code",
   "execution_count": 77,
   "metadata": {},
   "outputs": [
    {
     "data": {
      "text/plain": [
       "165922761.84"
      ]
     },
     "execution_count": 77,
     "metadata": {},
     "output_type": "execute_result"
    }
   ],
   "source": [
    "colombia_trade['PrimaryValue'].max()"
   ]
  },
  {
   "cell_type": "markdown",
   "metadata": {},
   "source": [
    "## Insights:"
   ]
  },
  {
   "cell_type": "markdown",
   "metadata": {},
   "source": [
    "- The global coffee market is projected to grow as it is driven by increasing coffee consumption, particularly in emerging markets such as Asia-Pacific, where coffee culture is expanding rapidly.\n",
    "\n",
    "Major Coffee Producing and Consuming Regions:\n",
    "- Producing Regions: The majority of coffee is produced in developing countries, especially in South America (Brazil, Colombia), Asia (Vietnam, Indonesia), and Africa (Ethiopia).\n",
    "\n",
    "- Consuming Regions: The largest coffee markets in terms of consumption are in North America, Europe, and increasingly in Asia-Pacific. Europe leads as the largest consuming region, with 3.2 million metric tons (3,186,000 metric tons) consumed."
   ]
  }
 ],
 "metadata": {
  "kernelspec": {
   "display_name": "Intro.Anaconda",
   "language": "python",
   "name": "python3"
  },
  "language_info": {
   "codemirror_mode": {
    "name": "ipython",
    "version": 3
   },
   "file_extension": ".py",
   "mimetype": "text/x-python",
   "name": "python",
   "nbconvert_exporter": "python",
   "pygments_lexer": "ipython3",
   "version": "3.12.3"
  }
 },
 "nbformat": 4,
 "nbformat_minor": 2
}
